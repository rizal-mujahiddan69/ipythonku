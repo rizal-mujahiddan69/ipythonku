{
 "cells": [
  {
   "cell_type": "markdown",
   "id": "ea16504d",
   "metadata": {
    "id": "ea16504d"
   },
   "source": [
    "## Konstruksi UI menggunakan tkinter\n",
    "The root window seperti sebuah <mark>canvas/wadah dimana kita dapat menggambar object grafik</mark>. Konstruksi UI aktual cukup standar. Cukup hanya mmebuat <mark>root window</mark>, <mark>widgets</mark> dan kemudian menambahkan<mark>functionality</mark> ke widgets yang sudah dibuat.<br>\n",
    "Berikut langkah-langkah sederhana dalam membuat object graphics:\n",
    "1. Create a root window\n",
    "2. Add widgets to the root window\n",
    "3. Customize widgets\n",
    "4. The geometry of the widgets\n",
    "5. Bind event handlers to widget events\n",
    "6. Start the main event loop"
   ]
  },
  {
   "cell_type": "code",
   "execution_count": 2,
   "id": "b51a6452",
   "metadata": {
    "id": "b51a6452",
    "outputId": "afacec81-fa66-457d-e03d-90675d82cc36"
   },
   "outputs": [
    {
     "name": "stderr",
     "output_type": "stream",
     "text": [
      "WARNING: Retrying (Retry(total=4, connect=None, read=None, redirect=None, status=None)) after connection broken by 'ReadTimeoutError(\"HTTPSConnectionPool(host='pypi.org', port=443): Read timed out. (read timeout=15)\")': /simple/tkinter/\n",
      "ERROR: Could not find a version that satisfies the requirement tkinter (from versions: none)\n",
      "ERROR: No matching distribution found for tkinter\n"
     ]
    }
   ],
   "source": [
    "# untuk menginstall package tkinter\n",
    "!pip install tkinter"
   ]
  },
  {
   "cell_type": "code",
   "execution_count": null,
   "id": "50917af3",
   "metadata": {
    "id": "50917af3"
   },
   "outputs": [],
   "source": [
    "from tkinter import *\n",
    "import tkinter as tk\n",
    "# dir(tkinter)\n",
    "#tk.Button()"
   ]
  },
  {
   "cell_type": "markdown",
   "id": "e71c725a",
   "metadata": {
    "id": "e71c725a"
   },
   "source": [
    "### Buat sebuah Root Window"
   ]
  },
  {
   "cell_type": "code",
   "execution_count": null,
   "id": "191e4cf4",
   "metadata": {
    "id": "191e4cf4"
   },
   "outputs": [],
   "source": [
    "import tkinter\n",
    "def main():\n",
    "    root = tkinter.Tk() # buat root window\n",
    "    # Tambahkan widgets ke root\n",
    "    # Kustomisasi widgets\n",
    "    # set geometri widgets\n",
    "    # bind envent handles ke event widgets\n",
    "    root.mainloop() # call the event loop\n",
    "\n",
    "# panggil main window..\n",
    "main()"
   ]
  },
  {
   "cell_type": "code",
   "execution_count": null,
   "id": "a7725408",
   "metadata": {
    "id": "a7725408"
   },
   "outputs": [],
   "source": [
    "import tkinter as tk\n",
    "\n",
    "def main():\n",
    "    WINDOW = tk.Tk() # buat root window\n",
    "    WINDOW.geometry('920x720')\n",
    "    WINDOW.mainloop()\n",
    "main()"
   ]
  },
  {
   "cell_type": "markdown",
   "id": "f0651965",
   "metadata": {
    "id": "f0651965"
   },
   "source": [
    "> <mark>root = tk.Tk()</mark>\n",
    "<br>\n",
    "\n",
    "Membangkitkan **instance Tk dari class tkinter** yang merupakan sebuah root window dan diassigned ke sebuah variabel root(namanya dapat disesuaikan). Sederhananya, ini merupakan moetode consturctor class untuk membuat main window.\n",
    "<br>\n",
    "> <mark>root.mainloop()</mark> \n",
    "<br>\n",
    "\n",
    "Mengeksekusi **fungsi mainloop**. Fungsi ini menjalankan sebuah <mark> infinite loop </mark> sampai kita menutup main window. (Kode event loop  sederhananya menginstruksikan untuk mendisplay <mark>window</mark> sampai ditutup manual (tombol x)). Mainloop berjalan secara endless loop pada back-end."
   ]
  },
  {
   "cell_type": "markdown",
   "id": "a6037e33",
   "metadata": {
    "id": "a6037e33"
   },
   "source": [
    "### Menambahkan Widgets ke root Window!\n",
    "Kita sudah membagkitan sebuah root window.Selanjutnya kita akan menambahkan komponen-komponen grafik ke dalam root tersebut. Komponen ini disebut sebagai <mark>widgets</mark>.<br>\n",
    "Sintaks dasar untuk membuat widgets:\n",
    "> nama_widgets = tkinter.WidgetName(its container window, its configuration options)\n",
    "\n",
    "Container window dapat berupa root window, sebuah frame atau sebuah panel. Jadi, tambahkan atau letakkan widgtes pada root window.<br>\n",
    "Misalkan kita akan membuat panel <mark>tombol</mark> ke dalam root window."
   ]
  },
  {
   "cell_type": "code",
   "execution_count": null,
   "id": "97e351a9",
   "metadata": {
    "id": "97e351a9"
   },
   "outputs": [],
   "source": [
    "import tkinter as tk\n",
    "\n",
    "def main():\n",
    "    # Kita buat dulu root window\n",
    "    root_window = tk.Tk()\n",
    "    root_window.geometry('720x360')\n",
    "    check_btn = tk.Checkbutton(root_window, bg='white', fg='blue',  text = 'Ini Tombol, tekan Saya!').pack()\n",
    "    tombol = tk.Button(bg='white', fg='blue',  text = 'Ini Tombol, tekan Saya!')\n",
    "    entr = tk.Entry(root_window).pack()\n",
    "    root_window.mainloop()"
   ]
  },
  {
   "cell_type": "code",
   "execution_count": null,
   "id": "7a504e52",
   "metadata": {
    "id": "7a504e52"
   },
   "outputs": [],
   "source": [
    "main()"
   ]
  },
  {
   "cell_type": "markdown",
   "id": "f9164fea",
   "metadata": {
    "id": "f9164fea"
   },
   "source": [
    "Kode di atas menambahkan sebuah instance(object) dengan nama tombol untuk widget Button. Parameter pertama kita definisikan root sebagai kontainer. Parameter kedua adalah konfigurasi dimana tombol tersebut diberi teks \"Tekan Saya\". <br>\n",
    "Kemudian method <mark>pack</mark>pada widget akan membuat widget itu fit dengan ukuran teks yang diberikan, root window menyesuaikan dengan ukuran tersebut, dan membuatnya visible.<br>"
   ]
  },
  {
   "cell_type": "markdown",
   "id": "81aa62e8",
   "metadata": {
    "id": "81aa62e8"
   },
   "source": [
    "### Kustom dan Set Geometri dari Widgets\n",
    "Manajemen geometri widgets adalah cara dimana akan meletakkan dan memposisikan semua widgets dalam root windows.<br>\n",
    "Semua Tkinter widgets memiliki akses untuk spesifik method geometry management, yang mana memiliki tujuan untuk mengorganisir widgets. Tkinter memiliki beberapa geometry manager classes: pack, grid, and place.\n",
    "- The pack() Method − Geometry manager untuk mengorganisasi widgets dalam **blocks** sebelum diposisikan pada parent widgets/root\n",
    "- The grid() Method − Geometry manager untuk mengorganisasi widgets dalam bentuk struktur tabel pada parent widget/root.\n",
    "- The place() Method − Geometry manager untuk mengorganisasi widgets dengan memposisikannya secara spesifik pada parent widget.\n",
    "\n",
    "**Method .pack()**<br>\n",
    "\n",
    "> widget.pack(pack_options)\n",
    "\n",
    "Options:<br>\n",
    "1. expand − When set to true, widget expands to fill any space not otherwise used in widget's parent.\n",
    "2. fill − Determines whether widget fills any extra space allocated to it by the packer, or keeps its own minimal dimensions: NONE (default), X (fill only horizontally), Y (fill only vertically), or BOTH (fill both horizontally and vertically).\n",
    "3. side − Determines which side of the parent widget packs against: top (default), bottom, left, or right.\n"
   ]
  },
  {
   "cell_type": "code",
   "execution_count": null,
   "id": "854dff1e",
   "metadata": {
    "id": "854dff1e"
   },
   "outputs": [],
   "source": [
    "import tkinter as tk\n",
    "\n",
    "def main():\n",
    "    root = tk.Tk()\n",
    "    root.geometry('720x360')\n",
    "    tmbl1 = tk.Button(root, text ='Tombol 1').pack(side = 'right')\n",
    "    root.mainloop()\n",
    "main()"
   ]
  },
  {
   "cell_type": "code",
   "execution_count": null,
   "id": "6b5b6199",
   "metadata": {
    "id": "6b5b6199"
   },
   "outputs": [],
   "source": [
    "import tkinter as tk\n",
    "def main():\n",
    "    root = tk.Tk() # buat root window\n",
    "    tombol1 = tk.Button(root, text = \"Tombol 1\", bg=\"black\", fg ='red').pack(expand = 1)\n",
    "    tombol2 = tk.Button(root, text = \"Tombol 2\", bg=\"blue\", fg = 'green').pack(fill=tk.X)\n",
    "    tombol3 = tk.Button(root, text = \"Tombol 3\", bg=\"red\", fg = 'yellow').pack(side='right')\n",
    "    root.mainloop() # call the event loop\n",
    "# panggil main window..\n",
    "main()"
   ]
  },
  {
   "cell_type": "markdown",
   "id": "31cebaac",
   "metadata": {
    "id": "31cebaac"
   },
   "source": [
    "**Method .grid()**<br>\n",
    "\n",
    "> widget.grid(grid_options)\n",
    "\n",
    "Options:<br>\n",
    "1. column − The column to put widget in; default 0 (leftmost column).\n",
    "2. columnspan − How many columns widget occupies; default 1.\n",
    "3. ipadx, ipady − How many pixels to pad widget, horizontally and vertically, inside widget's borders.\n",
    "4. padx, pady − How many pixels to pad widget, horizontally and vertically, outside v's borders.\n",
    "5. row − The row to put widget in; default the first row that is still empty.\n",
    "6. rowspan − How many rowswidget occupies; default 1.\n",
    "7. sticky − What to do if the cell is larger than widget. By default, with sticky='', widget is centered in its cell. sticky may be the string concatenation of zero or more of N, E, S, W, NE, NW, SE, and SW, compass directions indicating the sides and corners of the cell to which widget sticks.\n",
    "\n",
    "Places Labels in positions (0,0),(1,0),(2,0),(3,0),(4,0),(5,0) : First Column<br>\n",
    "Places Entries in positions (0,1),(1,1),(2,1),(3,1),(4,1),(5,1) : Second Column\n"
   ]
  },
  {
   "cell_type": "code",
   "execution_count": null,
   "id": "9ea0694e",
   "metadata": {
    "id": "9ea0694e"
   },
   "outputs": [],
   "source": [
    "import tkinter as tk\n",
    "\n",
    "def main():\n",
    "    wind = tk.Tk()\n",
    "    wind.geometry('360x120')\n",
    "    btn1 = tk.Button(wind, text = 'red', width = 15).grid(row=0,column=1)\n",
    "    entr1 = tk.Entry(wind, bg = 'red', width = 15).grid(row=0,column=2)\n",
    "    btn2 = tk.Button(wind, text = 'blue', width = 15).grid(row=1,column=0)\n",
    "    entr2 = tk.Entry(wind, bg = 'blue' ,width = 15).grid(row=1,column=5)\n",
    "    wind.mainloop()\n",
    "main()"
   ]
  },
  {
   "cell_type": "code",
   "execution_count": null,
   "id": "68fd4a87",
   "metadata": {
    "id": "68fd4a87"
   },
   "outputs": [],
   "source": [
    "import tkinter as tk\n",
    "\n",
    "def main():\n",
    "    colours = ['red','green','orange','white','yellow','blue']\n",
    "    root = tk.Tk()\n",
    "    r = 0\n",
    "    for c in colours:\n",
    "        tk.Label(root, text=c, relief=tk.RIDGE, width=15).grid(row=r,column=0)\n",
    "        tk.Entry(root, bg=c, relief=tk.SUNKEN, width=10).grid(row=r,column=1)\n",
    "        r = r + 1\n",
    "    root.mainloop()\n",
    "\n",
    "main()"
   ]
  },
  {
   "cell_type": "code",
   "execution_count": null,
   "id": "f9f8125b",
   "metadata": {
    "id": "f9f8125b"
   },
   "outputs": [],
   "source": [
    "# Contoh Grid lainnya\n",
    "import tkinter as tk\n",
    "def main():\n",
    "    root = tk.Tk(  )\n",
    "    for r in range(10):\n",
    "        for c in range(10):\n",
    "            tkinter.Label(root, text='R%s/C%s'%(r,c), borderwidth=3, padx=3, pady=3, \n",
    "                          fg=\"yellow\", bg=\"#923223\" ).grid(row=r,column=c)\n",
    "    root.mainloop()\n",
    "\n",
    "main()"
   ]
  },
  {
   "cell_type": "markdown",
   "id": "14090192",
   "metadata": {
    "id": "14090192"
   },
   "source": [
    "**Method .place()**<br>\n",
    "\n",
    "> widget.place(place_options)\n",
    "\n",
    "Options:<br>\n",
    "1. anchor − The exact spot of widget other options refer to: may be N, E, S, W, NE, NW, SE, or SW, compass directions indicating the corners and sides of widget; default is NW (the upper left corner of widget)\n",
    "2. bordermode − INSIDE (the default) to indicate that other options refer to the parent's inside (ignoring the parent's border); OUTSIDE otherwise.\n",
    "3. height, width − Height and width in pixels.\n",
    "4. relheight, relwidth − Height and width as a float between 0.0 and 1.0, as a fraction of the height and width of the parent widget.\n",
    "5. relx, rely − Horizontal and vertical offset as a float between 0.0 and 1.0, as a fraction of the height and width of the parent widget.\n",
    "6. x, y − Horizontal and vertical offset in pixels"
   ]
  },
  {
   "cell_type": "code",
   "execution_count": null,
   "id": "fee75a87",
   "metadata": {
    "id": "fee75a87"
   },
   "outputs": [],
   "source": [
    "import tkinter as tk\n",
    "def main():\n",
    "    root = tk.Tk() # buat root window\n",
    "    root.geometry(\"720x360\")\n",
    "    tombol1 = tk.Button(root, text = \"Tombol 1\", bg=\"blue\", fg ='red').place(bordermode=\"inside\", height=100, width=200)\n",
    "    tombol2 = tk.Button(root, text = \"Tombol 2\", bg=\"green\", fg = 'purple').place(bordermode=\"outside\", height=50, width=100)\n",
    "    root.mainloop() # call the event loop\n",
    "# panggil main window..\n",
    "main()"
   ]
  },
  {
   "cell_type": "code",
   "execution_count": null,
   "id": "2d2a4af0",
   "metadata": {
    "id": "2d2a4af0",
    "outputId": "d80af332-c554-4bce-884a-6d5792cafc64"
   },
   "outputs": [],
   "source": [
    "# Contoh lain method Place\n",
    "import tkinter as tk\n",
    "import random\n",
    "\n",
    "root = tk.Tk()\n",
    "# width x height + x_offset + y_offset:\n",
    "# geometry(\"window width x window height + position right + position down\")\n",
    "# position the top left corner of the window right 300 pixels and down 300 pixels.\n",
    "root.geometry(\"170x200+30+230\")\n",
    "\n",
    "languages = ['Python', 'Perl', 'C++', 'Java', 'Tcl/Tk']\n",
    "labels = range(5)\n",
    "for i in range(5):\n",
    "    ct = [random.randrange(256) for x in range(3)]\n",
    "    brightness = int(round(0.299 * ct[0] + 0.587 * ct[1] + 0.114 * ct[2]))\n",
    "    ct_hex = \"%02x%02x%02x\" % tuple(ct)\n",
    "    bg_colour = '#' + \"\".join(ct_hex)\n",
    "    print(bg_colour)\n",
    "    l = tk.Label(root,\n",
    "                 text=languages[i],\n",
    "                 fg='White' if brightness < 120 else 'Black',\n",
    "                 bg=bg_colour)\n",
    "    l.place(x=20, y=30 + i * 30, width=120, height=25)\n",
    "\n",
    "root.mainloop()"
   ]
  },
  {
   "cell_type": "markdown",
   "id": "9d6ddcb1",
   "metadata": {
    "id": "9d6ddcb1"
   },
   "source": [
    "### Callback Function (Menambahkan Fungsionalitas Widgets)\n",
    "Kita sudah membuat root window dan sebuah widget, namun widget button tersebut belum memiliki fungsi sebagai sebuah tombol. Kita akan menuliskan sebuah fungsi callback yang akan menentukan **behaviour** dari button tersebut.<br>\n",
    "callback function juga dikenal sebagai **event handler** karena fungsi tersebut menghandle event yang akan terjadi/muncul saat uset menekan(clicks) <mark>the button</mark>."
   ]
  },
  {
   "cell_type": "code",
   "execution_count": null,
   "id": "023b07b1",
   "metadata": {
    "id": "023b07b1"
   },
   "outputs": [],
   "source": [
    "import tkinter as tk\n",
    "from tkinter import messagebox\n",
    "\n",
    "#callback function\n",
    "def do_something():\n",
    "    #the following line of code show messagebox\n",
    "    messagebox.showinfo('Pemberitahuan', 'Pesan sudah dikirim...')\n",
    "\n",
    "def main():\n",
    "    # Create a root window\n",
    "    root = tk.Tk()\n",
    "    root.geometry(\"720x360\")\n",
    "    # create a button widget\n",
    "    tombol = tk.Button(root, text = \"Coba Kirim!\", bg=\"blue\", fg ='red', command = do_something)\n",
    "    tombol.place(bordermode=\"outside\", height=100, width=200)\n",
    "    root.mainloop()\n",
    "\n",
    "# Call the function main\n",
    "main()"
   ]
  },
  {
   "cell_type": "markdown",
   "id": "778f5e6d",
   "metadata": {
    "id": "778f5e6d"
   },
   "source": [
    "### Binding Function\n",
    "Memanggil functions saat dimana **event** ada merupakan binding function. Pada contoh berikut, saat klik buttoen, memanggil fungsi **\"say_hi\"**.<br>\n",
    "Fungsi **say_hi** membuat label baru dengan memunculkan sebuah teks. "
   ]
  },
  {
   "cell_type": "code",
   "execution_count": null,
   "id": "b6c24c46",
   "metadata": {
    "id": "b6c24c46"
   },
   "outputs": [],
   "source": [
    "import tkinter as tk\n",
    "\n",
    "root_window = tk.Tk()\n",
    "root_window.geometry(\"720x360\")\n",
    "root_window.title(\"Tessss\")\n",
    "\n",
    "# creating a function called say_hi()\n",
    "def say_hi():\n",
    "    tk.Label(root_window, text = \"Hi Terima kasih sudah Klik Saya!\").pack(expand=0)\n",
    "\n",
    "# 'command' akan diekskusi saat clik button..\n",
    "# Pada contoh di atas, button akan mengaktifkan/memanggil function 'say_hi'.\n",
    "tk.Button(root_window, text = \"Klik Say.. klik Saya.. !\", command = say_hi).pack(expand=0) \n",
    "root_window.mainloop()\n"
   ]
  },
  {
   "cell_type": "markdown",
   "id": "4c3e5511",
   "metadata": {
    "id": "4c3e5511"
   },
   "source": [
    "Cara lain untuk menggunakan bind functions adalah menggunakan events. Events adalah sesuatu seperti mousemove, mouseover, clicking, scrolling, dan sebagainya..,\n",
    "Sebagai contoh clicking events memiliki 3 bentuk button berbeda: leftClick, middleClick, dan rightClick.\n",
    "\n",
    "    <Button-1> for left click\n",
    "\n",
    "    <Double-2> for double click\n",
    "\n",
    "    <Button-3> for right click\n",
    "\n",
    "Beberapa properties Bind: ![image-2.png](attachment:image-2.png)"
   ]
  },
  {
   "cell_type": "code",
   "execution_count": null,
   "id": "d52254ba",
   "metadata": {
    "id": "d52254ba"
   },
   "outputs": [],
   "source": [
    "import tkinter\n",
    "\n",
    "window = tkinter.Tk()\n",
    "window.title(\"GUI\")\n",
    "\n",
    "#creating 3 different functions for 3 events\n",
    "def left_click(event):\n",
    "    tkinter.Label(window, text = \"Left Click!\").pack()\n",
    "\n",
    "def double_click(event):\n",
    "    tkinter.Label(window, text=\"Double Click\").pack()\n",
    "\n",
    "def right_click(event):\n",
    "    tkinter.Label(window, text = \"Right Click!\").pack()\n",
    "\n",
    "window.bind(\"<Button-1>\", left_click)\n",
    "window.bind(\"<Double-Button-1>\", double_click)\n",
    "window.bind(\"<Button-3>\", right_click)\n",
    "\n",
    "window.mainloop()"
   ]
  },
  {
   "cell_type": "code",
   "execution_count": null,
   "id": "9a729738",
   "metadata": {
    "id": "9a729738"
   },
   "outputs": [],
   "source": [
    "# You can use GUI  Classes using root window when you're developing a large software or something that's big\n",
    "import tkinter as tk\n",
    "\n",
    "class coba_ui:\n",
    "\n",
    "    def __init__(self, window):\n",
    "         # Buat button dengan teks Clik Me dan event menampilkan label Hi!\n",
    "        self.text_btn = tk.Button(window, text = \"Click Me!\", command = self.say_hi).pack()\n",
    "    \n",
    "        # Buat button untuk menutup 'window' saat diclick..\n",
    "        self.close_btn = tk.Button(window, text = \"Close\", command = window.destroy).pack()\n",
    "\n",
    "    def say_hi(self):\n",
    "        tk.Label(window, text = \"Hi!\").pack()\n",
    "\n",
    "window = tk.Tk()\n",
    "window.title(\"GUI\")\n",
    "\n",
    "tes_ui = coba_ui(window)\n",
    "\n",
    "window.mainloop()\n"
   ]
  },
  {
   "cell_type": "code",
   "execution_count": null,
   "id": "3679a17c",
   "metadata": {
    "id": "3679a17c",
    "outputId": "0cc1f102-8176-46be-8b73-07b22f3f85a9"
   },
   "outputs": [],
   "source": [
    "help(tkinter.Button)"
   ]
  },
  {
   "cell_type": "code",
   "execution_count": null,
   "id": "ee3efcb4",
   "metadata": {
    "id": "ee3efcb4"
   },
   "outputs": [],
   "source": [
    "from tkinter import *\n",
    "\n",
    "win = Tk() \n",
    "win.geometry(\"312x324\")  \n",
    "win.title(\"Calculator\")\n",
    "\n",
    "###################Starting with functions ####################\n",
    "\n",
    "def btn_click(item):\n",
    "    global expression\n",
    "    expression = expression + str(item)\n",
    "    input_text.set(expression)\n",
    "def bt_clear(): \n",
    "    global expression \n",
    "    expression = \"\" \n",
    "    input_text.set(\"\") \n",
    "def bt_equal():\n",
    "    global expression\n",
    "    result = str(eval(expression)) # 'eval':This function is used to evaluates the string expression directly\n",
    "    input_text.set(result)\n",
    "    expression = \"\"\n",
    "\n",
    "expression = \"\"\n",
    " \n",
    "# 'StringVar()' :It is used to get the instance of input field\n",
    "input_text = StringVar()\n",
    " \n",
    "# Let us creating a frame for the input field\n",
    "input_frame = Frame(win, width=312, height=50, bd=0, highlightbackground=\"black\", highlightcolor=\"black\", highlightthickness=2) \n",
    "input_frame.pack(side=TOP)\n",
    " \n",
    "#Let us create a input field inside the 'Frame'\n",
    "input_field = Entry(input_frame, font=('arial', 18, 'bold'), textvariable=input_text, width=50, bg=\"#eee\", bd=0, justify=RIGHT)\n",
    "input_field.grid(row=0, column=0)\n",
    "input_field.pack(ipady=10) # 'ipady' is internal padding to increase the height of input field\n",
    " \n",
    "#Let us creating another 'Frame' for the button below the 'input_frame'\n",
    "btns_frame = Frame(win, width=312, height=272.5, bg=\"grey\")\n",
    "btns_frame.pack()\n",
    " \n",
    "# Set for the first row\n",
    " \n",
    "clear = Button(btns_frame, text = \"C\", fg = \"black\", width = 32, height = 3, bd = 0, bg = \"#eee\", cursor = \"hand2\", command = lambda: bt_clear()).grid(row = 0, column = 0, columnspan = 3, padx = 1, pady = 1)\n",
    "divide = Button(btns_frame, text = \"/\", fg = \"black\", width = 10, height = 3, bd = 0, bg = \"#eee\", cursor = \"hand2\", command = lambda: btn_click(\"/\")).grid(row = 0, column = 3, padx = 1, pady = 1)\n",
    " \n",
    "# Set for second row\n",
    "seven = Button(btns_frame, text = \"7\", fg = \"black\", width = 10, height = 3, bd = 0, bg = \"#fff\", cursor = \"hand2\", command = lambda: btn_click(7)).grid(row = 1, column = 0, padx = 1, pady = 1)\n",
    "eight = Button(btns_frame, text = \"8\", fg = \"black\", width = 10, height = 3, bd = 0, bg = \"#fff\", cursor = \"hand2\", command = lambda: btn_click(8)).grid(row = 1, column = 1, padx = 1, pady = 1)\n",
    "nine = Button(btns_frame, text = \"9\", fg = \"black\", width = 10, height = 3, bd = 0, bg = \"#fff\", cursor = \"hand2\", command = lambda: btn_click(9)).grid(row = 1, column = 2, padx = 1, pady = 1)\n",
    "multiply = Button(btns_frame, text = \"*\", fg = \"black\", width = 10, height = 3, bd = 0, bg = \"#eee\", cursor = \"hand2\", command = lambda: btn_click(\"*\")).grid(row = 1, column = 3, padx = 1, pady = 1)\n",
    " \n",
    "# third row\n",
    "four = Button(btns_frame, text = \"4\", fg = \"black\", width = 10, height = 3, bd = 0, bg = \"#fff\", cursor = \"hand2\", command = lambda: btn_click(4)).grid(row = 2, column = 0, padx = 1, pady = 1)\n",
    "five = Button(btns_frame, text = \"5\", fg = \"black\", width = 10, height = 3, bd = 0, bg = \"#fff\", cursor = \"hand2\", command = lambda: btn_click(5)).grid(row = 2, column = 1, padx = 1, pady = 1)\n",
    "six = Button(btns_frame, text = \"6\", fg = \"black\", width = 10, height = 3, bd = 0, bg = \"#fff\", cursor = \"hand2\", command = lambda: btn_click(6)).grid(row = 2, column = 2, padx = 1, pady = 1)\n",
    "minus = Button(btns_frame, text = \"-\", fg = \"black\", width = 10, height = 3, bd = 0, bg = \"#eee\", cursor = \"hand2\", command = lambda: btn_click(\"-\")).grid(row = 2, column = 3, padx = 1, pady = 1)\n",
    " \n",
    "# Set for fourth row\n",
    "one = Button(btns_frame, text = \"1\", fg = \"black\", width = 10, height = 3, bd = 0, bg = \"#fff\", cursor = \"hand2\", command = lambda: btn_click(1)).grid(row = 3, column = 0, padx = 1, pady = 1)\n",
    "two = Button(btns_frame, text = \"2\", fg = \"black\", width = 10, height = 3, bd = 0, bg = \"#fff\", cursor = \"hand2\", command = lambda: btn_click(2)).grid(row = 3, column = 1, padx = 1, pady = 1)\n",
    "three = Button(btns_frame, text = \"3\", fg = \"black\", width = 10, height = 3, bd = 0, bg = \"#fff\", cursor = \"hand2\", command = lambda: btn_click(3)).grid(row = 3, column = 2, padx = 1, pady = 1)\n",
    "plus = Button(btns_frame, text = \"+\", fg = \"black\", width = 10, height = 3, bd = 0, bg = \"#eee\", cursor = \"hand2\", command = lambda: btn_click(\"+\")).grid(row = 3, column = 3, padx = 1, pady = 1)\n",
    " \n",
    "# Set for fourth row\n",
    "zero = Button(btns_frame, text = \"0\", fg = \"black\", width = 21, height = 3, bd = 0, bg = \"#fff\", cursor = \"hand2\", command = lambda: btn_click(0)).grid(row = 4, column = 0, columnspan = 2, padx = 1, pady = 1)\n",
    "point = Button(btns_frame, text = \".\", fg = \"black\", width = 10, height = 3, bd = 0, bg = \"#eee\", cursor = \"hand2\", command = lambda: btn_click(\".\")).grid(row = 4, column = 2, padx = 1, pady = 1)\n",
    "equals = Button(btns_frame, text = \"=\", fg = \"black\", width = 10, height = 3, bd = 0, bg = \"#eee\", cursor = \"hand2\", command = lambda: bt_equal()).grid(row = 4, column = 3, padx = 1, pady = 1)\n",
    " \n",
    "win.mainloop()"
   ]
  },
  {
   "cell_type": "code",
   "execution_count": null,
   "id": "4a3e5347",
   "metadata": {
    "id": "4a3e5347"
   },
   "outputs": [],
   "source": []
  }
 ],
 "metadata": {
  "colab": {
   "name": "Day 18 - Tkinter-update.ipynb",
   "provenance": []
  },
  "kernelspec": {
   "display_name": "Python 3",
   "language": "python",
   "name": "python3"
  },
  "language_info": {
   "codemirror_mode": {
    "name": "ipython",
    "version": 3
   },
   "file_extension": ".py",
   "mimetype": "text/x-python",
   "name": "python",
   "nbconvert_exporter": "python",
   "pygments_lexer": "ipython3",
   "version": "3.9.6"
  }
 },
 "nbformat": 4,
 "nbformat_minor": 5
}
