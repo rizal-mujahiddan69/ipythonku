{
 "cells": [
  {
   "cell_type": "markdown",
   "id": "54f6f503",
   "metadata": {},
   "source": [
    "## Class dan Object (Part II)"
   ]
  },
  {
   "cell_type": "code",
   "execution_count": null,
   "id": "d8f20817",
   "metadata": {},
   "outputs": [],
   "source": [
    "# Scope variabel - local, nonlocal, dan global\n",
    "\n",
    "var = 0\n",
    "\n",
    "def scope_1():    \n",
    "    \n",
    "    def scope_2():\n",
    "        var =  \"jadi teks\"\n",
    "    \n",
    "    var = 5\n",
    "    scope_2()\n",
    "    print(var)\n",
    "\n",
    "scope_1()\n",
    "print(var)"
   ]
  },
  {
   "cell_type": "code",
   "execution_count": null,
   "id": "bd358ecb",
   "metadata": {},
   "outputs": [],
   "source": [
    "# Review Class and global variable\n",
    "\n",
    "class MyClass:\n",
    "    i = 123\n",
    "    def __init__(self):\n",
    "        self.i\n",
    "    \n",
    "    def f(self):\n",
    "        # global i\n",
    "        i = 321\n",
    "        return self.i"
   ]
  },
  {
   "cell_type": "code",
   "execution_count": null,
   "id": "a8909ada",
   "metadata": {},
   "outputs": [],
   "source": [
    "tes = MyClass()\n",
    "print(tes.i)\n",
    "print(tes.f())\n",
    "print(i)"
   ]
  },
  {
   "cell_type": "code",
   "execution_count": null,
   "id": "6f9a0555",
   "metadata": {},
   "outputs": [],
   "source": []
  },
  {
   "cell_type": "code",
   "execution_count": null,
   "id": "1782c2ac",
   "metadata": {},
   "outputs": [],
   "source": [
    "# Class and Constructor Function __init__(self)\n",
    "class hero:\n",
    "    \n",
    "    def __init__(my):\n",
    "        my.name = \"Toni Stark\"\n",
    "        my.job = \"Hero\"\n",
    "        my.age = 40\n",
    "\n",
    "    # tambahkan fungsi lain.."
   ]
  },
  {
   "cell_type": "code",
   "execution_count": null,
   "id": "ff57478c",
   "metadata": {},
   "outputs": [],
   "source": [
    "iron_man = hero()\n",
    "iron_man.__dict__"
   ]
  },
  {
   "cell_type": "code",
   "execution_count": null,
   "id": "ad2e18c3",
   "metadata": {},
   "outputs": [],
   "source": [
    "# Class dan instance Variable\n",
    "\n",
    "class cat:\n",
    "    \n",
    "    def __init__(self, name): #name as an instance\n",
    "        self.name = name\n",
    "        self.pow = []\n",
    "    \n",
    "    # tambahkan fungsi lainnya..\n",
    "\n",
    "a = cat('oyenz')\n",
    "b = cat('panjul')\n",
    "c = cat('syamsul')\n",
    "\n",
    "#a.__dict__"
   ]
  },
  {
   "cell_type": "code",
   "execution_count": null,
   "id": "7cf3992c",
   "metadata": {},
   "outputs": [],
   "source": [
    "# Inheritance \n",
    "\n",
    "class f1:\n",
    "    def a(self):\n",
    "        print('class A')\n",
    "\n",
    "class f2:\n",
    "    def a(self):\n",
    "        print('class B')\n",
    "\n",
    "class f3(f1,f2):\n",
    "    def c(self):\n",
    "        self.a()\n",
    "\n",
    "objt = f3()\n",
    "objt.a()\n",
    "issubclass(f3,f1)"
   ]
  },
  {
   "cell_type": "code",
   "execution_count": null,
   "id": "0030dfd2",
   "metadata": {},
   "outputs": [],
   "source": [
    "class f1:\n",
    "    s = 2\n",
    "    \n",
    "class f2(f1):\n",
    "    s = 1\n",
    "    \n",
    "class f3(f2):\n",
    "    pass\n",
    "\n",
    "print (f3.s)"
   ]
  },
  {
   "cell_type": "code",
   "execution_count": null,
   "id": "0c6074db",
   "metadata": {},
   "outputs": [],
   "source": [
    "class f1:\n",
    "    def __str__(self):\n",
    "        return 'A'\n",
    "\n",
    "class f2:\n",
    "    def __str__(self):\n",
    "        return 'B'\n",
    "\n",
    "class f3(f1,f2):\n",
    "    pass\n",
    "\n",
    "ob = f3()\n",
    "print(ob)"
   ]
  },
  {
   "cell_type": "code",
   "execution_count": null,
   "id": "35e2d1fc",
   "metadata": {},
   "outputs": [],
   "source": [
    "# Inheritance Part 2\n",
    "\"\"\" \n",
    "Sebelumnya kita sudah membuat class stack. Selanjutnya kita akan mencoba membuat subclass yang dapat menjumlahkan,\n",
    "setiap elemen yang ditambahkan ke dalam stack (saat di push), dan kita mengurangkan jika ada elemen yang di-pop \n",
    "\"\"\"\n",
    "\n",
    "# bentuk class stack:\n",
    "class Stack:\n",
    "    def __init__(self):\n",
    "        self.stack_list = []\n",
    "\n",
    "    def push(self, val):\n",
    "        self.stack_list.append(val)\n",
    "\n",
    "    def pop(self):\n",
    "        val = self.stack_list[-1]\n",
    "        del self.stack_list[-1]\n",
    "        return val"
   ]
  },
  {
   "cell_type": "markdown",
   "id": "288431f0",
   "metadata": {},
   "source": [
    "**jika dalam keadaan empty stack dan di-pop?**\n",
    "\n",
    "<!--\n",
    "\n",
    "class stackerror(IndexError):\n",
    "    def __init__(self):\n",
    "        print(\"Stack kosong tidak ada yang dapat di-pop\")\n",
    "\n",
    "-->"
   ]
  },
  {
   "cell_type": "markdown",
   "id": "372fc7a9",
   "metadata": {},
   "source": [
    "**Lanjutkan untuk membuat subclass stack yang dapat digunakan sebagai counter untuk elemen stack**\n",
    "\n",
    "<!--\n",
    "\n",
    "\n",
    "class subStack(Stack):\n",
    "    def __init__(self): # fungsi constructor..\n",
    "        Stack.__init__(self)\n",
    "    \n",
    "    def getSum(self):\n",
    "        return(self.__sum)\n",
    "    \n",
    "    def push(self, val):\n",
    "        Stack.push(self, val)\n",
    "        self.__sum = sum(self.stack_list)\n",
    "    \n",
    "    def pop(self):\n",
    "        Stack.pop(self)\n",
    "        self.__sum = sum(self.stack_list)\n",
    "\n",
    "-->"
   ]
  },
  {
   "cell_type": "code",
   "execution_count": null,
   "id": "4c2f1605",
   "metadata": {},
   "outputs": [],
   "source": [
    "# Lanjutkan kode untuk subclass Stack...\n",
    "newsatck = subStack()"
   ]
  },
  {
   "cell_type": "code",
   "execution_count": null,
   "id": "9926af73",
   "metadata": {},
   "outputs": [],
   "source": [
    "# Cek ketersediaan Atribut\n",
    "class ExampleClass:\n",
    "    def __init__(self, val):\n",
    "        if val % 2 != 0:\n",
    "            self.a = 1\n",
    "        else:\n",
    "            self.b = 1\n",
    "\n",
    "\n",
    "example_object = ExampleClass(1)\n",
    "\n",
    "#print(example_object.a)\n",
    "#print(example_object.b)"
   ]
  },
  {
   "cell_type": "code",
   "execution_count": null,
   "id": "ff65ddf4",
   "metadata": {},
   "outputs": [],
   "source": [
    "try:\n",
    "    print(example_object.b)\n",
    "except AttributeError:\n",
    "    pass"
   ]
  },
  {
   "cell_type": "code",
   "execution_count": null,
   "id": "57a92bb7",
   "metadata": {},
   "outputs": [],
   "source": [
    "example_object = ExampleClass(1)\n",
    "print(example_object.a)\n",
    "\n",
    "if hasattr(example_object, 'b'):\n",
    "    print(example_object.b)"
   ]
  },
  {
   "cell_type": "code",
   "execution_count": null,
   "id": "edb77427",
   "metadata": {},
   "outputs": [],
   "source": [
    "# Untuk mengecek apakah atribut ada di dalam Class\n",
    "class ExampleClass:\n",
    "    attr = 1\n",
    "\n",
    "print(hasattr(ExampleClass, 'attr'))\n",
    "print(hasattr(ExampleClass, 'prop'))\n"
   ]
  },
  {
   "cell_type": "code",
   "execution_count": null,
   "id": "6cdce0a4",
   "metadata": {},
   "outputs": [],
   "source": [
    "class ExampleClass:\n",
    "    a = 1\n",
    "    def __init__(self):\n",
    "        self.b = 2\n",
    "\n",
    "\n",
    "example_object = ExampleClass()\n",
    "\n",
    "print(hasattr(example_object, 'b'))\n",
    "print(hasattr(example_object, 'a'))\n",
    "print(hasattr(ExampleClass, 'b'))\n",
    "print(hasattr(ExampleClass, 'a'))"
   ]
  }
 ],
 "metadata": {
  "kernelspec": {
   "display_name": "Python 3",
   "language": "python",
   "name": "python3"
  },
  "language_info": {
   "codemirror_mode": {
    "name": "ipython",
    "version": 3
   },
   "file_extension": ".py",
   "mimetype": "text/x-python",
   "name": "python",
   "nbconvert_exporter": "python",
   "pygments_lexer": "ipython3",
   "version": "3.9.6"
  }
 },
 "nbformat": 4,
 "nbformat_minor": 5
}
