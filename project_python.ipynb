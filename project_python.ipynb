{
  "nbformat": 4,
  "nbformat_minor": 0,
  "metadata": {
    "colab": {
      "name": "project python.ipynb",
      "provenance": [],
      "collapsed_sections": []
    },
    "kernelspec": {
      "name": "python3",
      "display_name": "Python 3"
    },
    "language_info": {
      "name": "python"
    }
  },
  "cells": [
    {
      "cell_type": "markdown",
      "metadata": {
        "id": "i3rosEMEmNg2"
      },
      "source": [
        "Klik Ctrl + F9 untuk RUN ALL"
      ]
    },
    {
      "cell_type": "markdown",
      "metadata": {
        "id": "orbdMqKRxUI-"
      },
      "source": [
        "dataset didapatkan Di \n",
        "sumber : DQlab.com"
      ]
    },
    {
      "cell_type": "code",
      "metadata": {
        "id": "LWZoX_ZMysNG",
        "colab": {
          "base_uri": "https://localhost:8080/"
        },
        "outputId": "172ff4d5-4f6a-48c7-aff1-130cd46d9570"
      },
      "source": [
        "!wget -O file_excel.xlsx https://docs.google.com/uc?id=1zbDK-_wm7p-A-SOyPEOe2qDWBviwJHyq&export=download"
      ],
      "execution_count": null,
      "outputs": [
        {
          "output_type": "stream",
          "text": [
            "--2021-08-17 14:13:38--  https://docs.google.com/uc?id=1zbDK-_wm7p-A-SOyPEOe2qDWBviwJHyq\n",
            "Resolving docs.google.com (docs.google.com)... 173.194.218.100, 173.194.218.113, 173.194.218.102, ...\n",
            "Connecting to docs.google.com (docs.google.com)|173.194.218.100|:443... connected.\n",
            "HTTP request sent, awaiting response... 302 Moved Temporarily\n",
            "Location: https://doc-0k-4s-docs.googleusercontent.com/docs/securesc/ha0ro937gcuc7l7deffksulhg5h7mbp1/v38bpg9tar9hd4lq6tkc3be41mmhmh3l/1629209550000/13351450258384512919/*/1zbDK-_wm7p-A-SOyPEOe2qDWBviwJHyq [following]\n",
            "Warning: wildcards not supported in HTTP.\n",
            "--2021-08-17 14:13:38--  https://doc-0k-4s-docs.googleusercontent.com/docs/securesc/ha0ro937gcuc7l7deffksulhg5h7mbp1/v38bpg9tar9hd4lq6tkc3be41mmhmh3l/1629209550000/13351450258384512919/*/1zbDK-_wm7p-A-SOyPEOe2qDWBviwJHyq\n",
            "Resolving doc-0k-4s-docs.googleusercontent.com (doc-0k-4s-docs.googleusercontent.com)... 173.194.213.132, 2607:f8b0:400c:c0a::84\n",
            "Connecting to doc-0k-4s-docs.googleusercontent.com (doc-0k-4s-docs.googleusercontent.com)|173.194.213.132|:443... connected.\n",
            "HTTP request sent, awaiting response... 200 OK\n",
            "Length: 45627 (45K) [application/vnd.openxmlformats-officedocument.spreadsheetml.sheet]\n",
            "Saving to: ‘file_excel.xlsx’\n",
            "\n",
            "file_excel.xlsx     100%[===================>]  44.56K  --.-KB/s    in 0.001s  \n",
            "\n",
            "2021-08-17 14:13:38 (62.4 MB/s) - ‘file_excel.xlsx’ saved [45627/45627]\n",
            "\n"
          ],
          "name": "stdout"
        }
      ]
    },
    {
      "cell_type": "code",
      "metadata": {
        "id": "DP11lNWiwYy9"
      },
      "source": [
        "import seaborn as sns\n",
        "import pandas as pd\n",
        "import matplotlib.pyplot as plt"
      ],
      "execution_count": null,
      "outputs": []
    },
    {
      "cell_type": "code",
      "metadata": {
        "id": "4YrxBdmSzPpU",
        "colab": {
          "base_uri": "https://localhost:8080/",
          "height": 255
        },
        "outputId": "888b7972-c712-4e02-a599-d7976d5bf207"
      },
      "source": [
        "df = pd.read_excel('/content/file_excel.xlsx', index_col=\"kode_kontrak\")\n",
        "df.head()"
      ],
      "execution_count": null,
      "outputs": [
        {
          "output_type": "execute_result",
          "data": {
            "text/html": [
              "<div>\n",
              "<style scoped>\n",
              "    .dataframe tbody tr th:only-of-type {\n",
              "        vertical-align: middle;\n",
              "    }\n",
              "\n",
              "    .dataframe tbody tr th {\n",
              "        vertical-align: top;\n",
              "    }\n",
              "\n",
              "    .dataframe thead th {\n",
              "        text-align: right;\n",
              "    }\n",
              "</style>\n",
              "<table border=\"1\" class=\"dataframe\">\n",
              "  <thead>\n",
              "    <tr style=\"text-align: right;\">\n",
              "      <th></th>\n",
              "      <th>pendapatan_setahun_juta</th>\n",
              "      <th>kpr_aktif</th>\n",
              "      <th>durasi_pinjaman_bulan</th>\n",
              "      <th>jumlah_tanggungan</th>\n",
              "      <th>rata_rata_overdue</th>\n",
              "      <th>risk_rating</th>\n",
              "    </tr>\n",
              "    <tr>\n",
              "      <th>kode_kontrak</th>\n",
              "      <th></th>\n",
              "      <th></th>\n",
              "      <th></th>\n",
              "      <th></th>\n",
              "      <th></th>\n",
              "      <th></th>\n",
              "    </tr>\n",
              "  </thead>\n",
              "  <tbody>\n",
              "    <tr>\n",
              "      <th>AGR-000001</th>\n",
              "      <td>295</td>\n",
              "      <td>YA</td>\n",
              "      <td>48</td>\n",
              "      <td>5</td>\n",
              "      <td>61 - 90 days</td>\n",
              "      <td>4</td>\n",
              "    </tr>\n",
              "    <tr>\n",
              "      <th>AGR-000011</th>\n",
              "      <td>271</td>\n",
              "      <td>YA</td>\n",
              "      <td>36</td>\n",
              "      <td>5</td>\n",
              "      <td>61 - 90 days</td>\n",
              "      <td>4</td>\n",
              "    </tr>\n",
              "    <tr>\n",
              "      <th>AGR-000030</th>\n",
              "      <td>159</td>\n",
              "      <td>TIDAK</td>\n",
              "      <td>12</td>\n",
              "      <td>0</td>\n",
              "      <td>0 - 30 days</td>\n",
              "      <td>1</td>\n",
              "    </tr>\n",
              "    <tr>\n",
              "      <th>AGR-000043</th>\n",
              "      <td>210</td>\n",
              "      <td>YA</td>\n",
              "      <td>12</td>\n",
              "      <td>3</td>\n",
              "      <td>46 - 60 days</td>\n",
              "      <td>3</td>\n",
              "    </tr>\n",
              "    <tr>\n",
              "      <th>AGR-000049</th>\n",
              "      <td>165</td>\n",
              "      <td>TIDAK</td>\n",
              "      <td>36</td>\n",
              "      <td>0</td>\n",
              "      <td>31 - 45 days</td>\n",
              "      <td>2</td>\n",
              "    </tr>\n",
              "  </tbody>\n",
              "</table>\n",
              "</div>"
            ],
            "text/plain": [
              "              pendapatan_setahun_juta kpr_aktif  ...  rata_rata_overdue  risk_rating\n",
              "kode_kontrak                                     ...                                \n",
              "AGR-000001                        295        YA  ...       61 - 90 days            4\n",
              "AGR-000011                        271        YA  ...       61 - 90 days            4\n",
              "AGR-000030                        159     TIDAK  ...        0 - 30 days            1\n",
              "AGR-000043                        210        YA  ...       46 - 60 days            3\n",
              "AGR-000049                        165     TIDAK  ...       31 - 45 days            2\n",
              "\n",
              "[5 rows x 6 columns]"
            ]
          },
          "metadata": {
            "tags": []
          },
          "execution_count": 3
        }
      ]
    },
    {
      "cell_type": "code",
      "metadata": {
        "id": "Yroa9AO62pv3",
        "colab": {
          "base_uri": "https://localhost:8080/"
        },
        "outputId": "4c561d7d-3829-43d6-94e2-e7a29778ad22"
      },
      "source": [
        "# Mengecek apakah ada NULL didalam data tersebut\n",
        "print(df.shape)\n",
        "df.info()"
      ],
      "execution_count": null,
      "outputs": [
        {
          "output_type": "stream",
          "text": [
            "(900, 6)\n",
            "<class 'pandas.core.frame.DataFrame'>\n",
            "Index: 900 entries, AGR-000001 to AGR-010790\n",
            "Data columns (total 6 columns):\n",
            " #   Column                   Non-Null Count  Dtype \n",
            "---  ------                   --------------  ----- \n",
            " 0   pendapatan_setahun_juta  900 non-null    int64 \n",
            " 1   kpr_aktif                900 non-null    object\n",
            " 2   durasi_pinjaman_bulan    900 non-null    int64 \n",
            " 3   jumlah_tanggungan        900 non-null    int64 \n",
            " 4   rata_rata_overdue        900 non-null    object\n",
            " 5   risk_rating              900 non-null    int64 \n",
            "dtypes: int64(4), object(2)\n",
            "memory usage: 49.2+ KB\n"
          ],
          "name": "stdout"
        }
      ]
    },
    {
      "cell_type": "markdown",
      "metadata": {
        "id": "O-qQPfyr4M20"
      },
      "source": [
        "### Cek Apakah anda duplikasi pada row"
      ]
    },
    {
      "cell_type": "code",
      "metadata": {
        "id": "ACXjFym122zq"
      },
      "source": [
        "df.drop_duplicates(inplace=True)"
      ],
      "execution_count": null,
      "outputs": []
    },
    {
      "cell_type": "code",
      "metadata": {
        "id": "I4VWSFwc31SY",
        "colab": {
          "base_uri": "https://localhost:8080/"
        },
        "outputId": "52d95600-6605-473a-b566-576caf5eef4c"
      },
      "source": [
        "df.info()\n",
        "\n",
        "# Ternyata ada 65 duplikat di baris tersebut yaa"
      ],
      "execution_count": null,
      "outputs": [
        {
          "output_type": "stream",
          "text": [
            "<class 'pandas.core.frame.DataFrame'>\n",
            "Index: 835 entries, AGR-000001 to AGR-010790\n",
            "Data columns (total 6 columns):\n",
            " #   Column                   Non-Null Count  Dtype \n",
            "---  ------                   --------------  ----- \n",
            " 0   pendapatan_setahun_juta  835 non-null    int64 \n",
            " 1   kpr_aktif                835 non-null    object\n",
            " 2   durasi_pinjaman_bulan    835 non-null    int64 \n",
            " 3   jumlah_tanggungan        835 non-null    int64 \n",
            " 4   rata_rata_overdue        835 non-null    object\n",
            " 5   risk_rating              835 non-null    int64 \n",
            "dtypes: int64(4), object(2)\n",
            "memory usage: 45.7+ KB\n"
          ],
          "name": "stdout"
        }
      ]
    },
    {
      "cell_type": "code",
      "metadata": {
        "id": "BdqDQ6OV5BdB",
        "colab": {
          "base_uri": "https://localhost:8080/",
          "height": 402
        },
        "outputId": "50ee01f7-abba-417f-8c21-3a87d43385bd"
      },
      "source": [
        "sns.catplot(x=\"risk_rating\", y=\"pendapatan_setahun_juta\",hue=\"kpr_aktif\" ,data=df,kind=\"strip\")"
      ],
      "execution_count": null,
      "outputs": [
        {
          "output_type": "execute_result",
          "data": {
            "text/plain": [
              "<seaborn.axisgrid.FacetGrid at 0x7f81b9983610>"
            ]
          },
          "metadata": {
            "tags": []
          },
          "execution_count": 7
        },
        {
          "output_type": "display_data",
          "data": {
            "image/png": "[encoded data removed]",
            "text/plain": [
              "<Figure size 425.875x360 with 1 Axes>"
            ]
          },
          "metadata": {
            "tags": [],
            "needs_background": "light"
          }
        }
      ]
    },
    {
      "cell_type": "markdown",
      "metadata": {
        "id": "sAIFC4NX6XeQ"
      },
      "source": [
        "Disimpulkan Bahwa kpr_aktif itu indikator sangat kuat dalam risk_rating"
      ]
    },
    {
      "cell_type": "code",
      "metadata": {
        "id": "exVp7a8O6inX",
        "colab": {
          "base_uri": "https://localhost:8080/",
          "height": 402
        },
        "outputId": "55c57673-e36c-4074-c1bc-1133560f2aa2"
      },
      "source": [
        "sns.catplot(y=\"risk_rating\", x=\"jumlah_tanggungan\",hue=\"kpr_aktif\" ,data=df,kind=\"strip\")"
      ],
      "execution_count": null,
      "outputs": [
        {
          "output_type": "execute_result",
          "data": {
            "text/plain": [
              "<seaborn.axisgrid.FacetGrid at 0x7f81b99eb8d0>"
            ]
          },
          "metadata": {
            "tags": []
          },
          "execution_count": 8
        },
        {
          "output_type": "display_data",
          "data": {
            "image/png": "[encoded data removed]",
            "text/plain": [
              "<Figure size 425.875x360 with 1 Axes>"
            ]
          },
          "metadata": {
            "tags": [],
            "needs_background": "light"
          }
        }
      ]
    },
    {
      "cell_type": "markdown",
      "metadata": {
        "id": "pfqLz86o69QV"
      },
      "source": [
        "## mengubah categorical variable menjadi numeric"
      ]
    },
    {
      "cell_type": "code",
      "metadata": {
        "id": "1Kl9dT4B7kBs",
        "colab": {
          "base_uri": "https://localhost:8080/"
        },
        "outputId": "f859748c-2144-4f90-d17a-4e59beda8400"
      },
      "source": [
        "df['kpr_aktif'].value_counts()"
      ],
      "execution_count": null,
      "outputs": [
        {
          "output_type": "execute_result",
          "data": {
            "text/plain": [
              "YA       471\n",
              "TIDAK    364\n",
              "Name: kpr_aktif, dtype: int64"
            ]
          },
          "metadata": {
            "tags": []
          },
          "execution_count": 9
        }
      ]
    },
    {
      "cell_type": "code",
      "metadata": {
        "id": "eCfOPwm361Tb"
      },
      "source": [
        "df.replace({'kpr_aktif':{'YA':1,'TIDAK':0}},inplace=True)"
      ],
      "execution_count": null,
      "outputs": []
    },
    {
      "cell_type": "code",
      "metadata": {
        "id": "Jtijaev27uBt",
        "colab": {
          "base_uri": "https://localhost:8080/",
          "height": 255
        },
        "outputId": "d171ecbd-d2db-462e-ee17-ef73628864f1"
      },
      "source": [
        "df.head()"
      ],
      "execution_count": null,
      "outputs": [
        {
          "output_type": "execute_result",
          "data": {
            "text/html": [
              "<div>\n",
              "<style scoped>\n",
              "    .dataframe tbody tr th:only-of-type {\n",
              "        vertical-align: middle;\n",
              "    }\n",
              "\n",
              "    .dataframe tbody tr th {\n",
              "        vertical-align: top;\n",
              "    }\n",
              "\n",
              "    .dataframe thead th {\n",
              "        text-align: right;\n",
              "    }\n",
              "</style>\n",
              "<table border=\"1\" class=\"dataframe\">\n",
              "  <thead>\n",
              "    <tr style=\"text-align: right;\">\n",
              "      <th></th>\n",
              "      <th>pendapatan_setahun_juta</th>\n",
              "      <th>kpr_aktif</th>\n",
              "      <th>durasi_pinjaman_bulan</th>\n",
              "      <th>jumlah_tanggungan</th>\n",
              "      <th>rata_rata_overdue</th>\n",
              "      <th>risk_rating</th>\n",
              "    </tr>\n",
              "    <tr>\n",
              "      <th>kode_kontrak</th>\n",
              "      <th></th>\n",
              "      <th></th>\n",
              "      <th></th>\n",
              "      <th></th>\n",
              "      <th></th>\n",
              "      <th></th>\n",
              "    </tr>\n",
              "  </thead>\n",
              "  <tbody>\n",
              "    <tr>\n",
              "      <th>AGR-000001</th>\n",
              "      <td>295</td>\n",
              "      <td>1</td>\n",
              "      <td>48</td>\n",
              "      <td>5</td>\n",
              "      <td>61 - 90 days</td>\n",
              "      <td>4</td>\n",
              "    </tr>\n",
              "    <tr>\n",
              "      <th>AGR-000011</th>\n",
              "      <td>271</td>\n",
              "      <td>1</td>\n",
              "      <td>36</td>\n",
              "      <td>5</td>\n",
              "      <td>61 - 90 days</td>\n",
              "      <td>4</td>\n",
              "    </tr>\n",
              "    <tr>\n",
              "      <th>AGR-000030</th>\n",
              "      <td>159</td>\n",
              "      <td>0</td>\n",
              "      <td>12</td>\n",
              "      <td>0</td>\n",
              "      <td>0 - 30 days</td>\n",
              "      <td>1</td>\n",
              "    </tr>\n",
              "    <tr>\n",
              "      <th>AGR-000043</th>\n",
              "      <td>210</td>\n",
              "      <td>1</td>\n",
              "      <td>12</td>\n",
              "      <td>3</td>\n",
              "      <td>46 - 60 days</td>\n",
              "      <td>3</td>\n",
              "    </tr>\n",
              "    <tr>\n",
              "      <th>AGR-000049</th>\n",
              "      <td>165</td>\n",
              "      <td>0</td>\n",
              "      <td>36</td>\n",
              "      <td>0</td>\n",
              "      <td>31 - 45 days</td>\n",
              "      <td>2</td>\n",
              "    </tr>\n",
              "  </tbody>\n",
              "</table>\n",
              "</div>"
            ],
            "text/plain": [
              "              pendapatan_setahun_juta  kpr_aktif  ...  rata_rata_overdue  risk_rating\n",
              "kode_kontrak                                      ...                                \n",
              "AGR-000001                        295          1  ...       61 - 90 days            4\n",
              "AGR-000011                        271          1  ...       61 - 90 days            4\n",
              "AGR-000030                        159          0  ...        0 - 30 days            1\n",
              "AGR-000043                        210          1  ...       46 - 60 days            3\n",
              "AGR-000049                        165          0  ...       31 - 45 days            2\n",
              "\n",
              "[5 rows x 6 columns]"
            ]
          },
          "metadata": {
            "tags": []
          },
          "execution_count": 11
        }
      ]
    },
    {
      "cell_type": "code",
      "metadata": {
        "id": "AP4CpDbH8EM1",
        "colab": {
          "base_uri": "https://localhost:8080/",
          "height": 177
        },
        "outputId": "e3e3ea0f-108c-4c15-e57e-e5e0ab54cae4"
      },
      "source": [
        "# dokumentasinya https://www.py4u.net/discuss/215386\n",
        "\n",
        "display(df['rata_rata_overdue'].value_counts())\n",
        "print()\n",
        "display(df['rata_rata_overdue'].unique())\n",
        "df['rata_rata_overdue'] = pd.Categorical(df['rata_rata_overdue'], \n",
        "               categories=['0 - 30 days','31 - 45 days','46 - 60 days',\n",
        "                           '61 - 90 days','> 90 days'],\n",
        "               ordered=True)"
      ],
      "execution_count": null,
      "outputs": [
        {
          "output_type": "display_data",
          "data": {
            "text/plain": [
              "46 - 60 days    263\n",
              "0 - 30 days     209\n",
              "31 - 45 days    154\n",
              "61 - 90 days    112\n",
              "> 90 days        97\n",
              "Name: rata_rata_overdue, dtype: int64"
            ]
          },
          "metadata": {
            "tags": []
          }
        },
        {
          "output_type": "stream",
          "text": [
            "\n"
          ],
          "name": "stdout"
        },
        {
          "output_type": "display_data",
          "data": {
            "text/plain": [
              "array(['61 - 90 days', '0 - 30 days', '46 - 60 days', '31 - 45 days',\n",
              "       '> 90 days'], dtype=object)"
            ]
          },
          "metadata": {
            "tags": []
          }
        }
      ]
    },
    {
      "cell_type": "code",
      "metadata": {
        "id": "L-5HaUBh7wgG",
        "colab": {
          "base_uri": "https://localhost:8080/",
          "height": 353
        },
        "outputId": "5a39c431-6391-4a99-cee1-5b71e902c17c"
      },
      "source": [
        "fig, ax = plt.subplots(figsize=(10,5))\n",
        "sns.histplot(ax=ax,x=\"rata_rata_overdue\",data=df)"
      ],
      "execution_count": null,
      "outputs": [
        {
          "output_type": "execute_result",
          "data": {
            "text/plain": [
              "<matplotlib.axes._subplots.AxesSubplot at 0x7f81b133f790>"
            ]
          },
          "metadata": {
            "tags": []
          },
          "execution_count": 13
        },
        {
          "output_type": "display_data",
          "data": {
            "image/png": "[encoded data removed]",
            "text/plain": [
              "<Figure size 720x360 with 1 Axes>"
            ]
          },
          "metadata": {
            "tags": [],
            "needs_background": "light"
          }
        }
      ]
    },
    {
      "cell_type": "code",
      "metadata": {
        "id": "1J9S-E20A3V9",
        "colab": {
          "base_uri": "https://localhost:8080/"
        },
        "outputId": "20e117a3-9a65-4655-9c8b-87b37a22addc"
      },
      "source": [
        "df.info()"
      ],
      "execution_count": null,
      "outputs": [
        {
          "output_type": "stream",
          "text": [
            "<class 'pandas.core.frame.DataFrame'>\n",
            "Index: 835 entries, AGR-000001 to AGR-010790\n",
            "Data columns (total 6 columns):\n",
            " #   Column                   Non-Null Count  Dtype   \n",
            "---  ------                   --------------  -----   \n",
            " 0   pendapatan_setahun_juta  835 non-null    int64   \n",
            " 1   kpr_aktif                835 non-null    int64   \n",
            " 2   durasi_pinjaman_bulan    835 non-null    int64   \n",
            " 3   jumlah_tanggungan        835 non-null    int64   \n",
            " 4   rata_rata_overdue        835 non-null    category\n",
            " 5   risk_rating              835 non-null    int64   \n",
            "dtypes: category(1), int64(5)\n",
            "memory usage: 80.2+ KB\n"
          ],
          "name": "stdout"
        }
      ]
    },
    {
      "cell_type": "code",
      "metadata": {
        "id": "cnSBohEYDiIc"
      },
      "source": [
        "df.replace({'rata_rata_overdue':{\n",
        "    '0 - 30 days' : 0,\n",
        "    '31 - 45 days' : 1 ,\n",
        "    '46 - 60 days' : 2,\n",
        "    '61 - 90 days' : 3,\n",
        "    '> 90 days' : 4\n",
        "}},inplace=True)"
      ],
      "execution_count": null,
      "outputs": []
    },
    {
      "cell_type": "code",
      "metadata": {
        "id": "jpVMLR6kEElP",
        "colab": {
          "base_uri": "https://localhost:8080/",
          "height": 408
        },
        "outputId": "040ddd26-be4b-4c8a-9447-204698d53d35"
      },
      "source": [
        "df.head(10)"
      ],
      "execution_count": null,
      "outputs": [
        {
          "output_type": "execute_result",
          "data": {
            "text/html": [
              "<div>\n",
              "<style scoped>\n",
              "    .dataframe tbody tr th:only-of-type {\n",
              "        vertical-align: middle;\n",
              "    }\n",
              "\n",
              "    .dataframe tbody tr th {\n",
              "        vertical-align: top;\n",
              "    }\n",
              "\n",
              "    .dataframe thead th {\n",
              "        text-align: right;\n",
              "    }\n",
              "</style>\n",
              "<table border=\"1\" class=\"dataframe\">\n",
              "  <thead>\n",
              "    <tr style=\"text-align: right;\">\n",
              "      <th></th>\n",
              "      <th>pendapatan_setahun_juta</th>\n",
              "      <th>kpr_aktif</th>\n",
              "      <th>durasi_pinjaman_bulan</th>\n",
              "      <th>jumlah_tanggungan</th>\n",
              "      <th>rata_rata_overdue</th>\n",
              "      <th>risk_rating</th>\n",
              "    </tr>\n",
              "    <tr>\n",
              "      <th>kode_kontrak</th>\n",
              "      <th></th>\n",
              "      <th></th>\n",
              "      <th></th>\n",
              "      <th></th>\n",
              "      <th></th>\n",
              "      <th></th>\n",
              "    </tr>\n",
              "  </thead>\n",
              "  <tbody>\n",
              "    <tr>\n",
              "      <th>AGR-000001</th>\n",
              "      <td>295</td>\n",
              "      <td>1</td>\n",
              "      <td>48</td>\n",
              "      <td>5</td>\n",
              "      <td>3</td>\n",
              "      <td>4</td>\n",
              "    </tr>\n",
              "    <tr>\n",
              "      <th>AGR-000011</th>\n",
              "      <td>271</td>\n",
              "      <td>1</td>\n",
              "      <td>36</td>\n",
              "      <td>5</td>\n",
              "      <td>3</td>\n",
              "      <td>4</td>\n",
              "    </tr>\n",
              "    <tr>\n",
              "      <th>AGR-000030</th>\n",
              "      <td>159</td>\n",
              "      <td>0</td>\n",
              "      <td>12</td>\n",
              "      <td>0</td>\n",
              "      <td>0</td>\n",
              "      <td>1</td>\n",
              "    </tr>\n",
              "    <tr>\n",
              "      <th>AGR-000043</th>\n",
              "      <td>210</td>\n",
              "      <td>1</td>\n",
              "      <td>12</td>\n",
              "      <td>3</td>\n",
              "      <td>2</td>\n",
              "      <td>3</td>\n",
              "    </tr>\n",
              "    <tr>\n",
              "      <th>AGR-000049</th>\n",
              "      <td>165</td>\n",
              "      <td>0</td>\n",
              "      <td>36</td>\n",
              "      <td>0</td>\n",
              "      <td>1</td>\n",
              "      <td>2</td>\n",
              "    </tr>\n",
              "    <tr>\n",
              "      <th>AGR-000063</th>\n",
              "      <td>220</td>\n",
              "      <td>0</td>\n",
              "      <td>24</td>\n",
              "      <td>5</td>\n",
              "      <td>0</td>\n",
              "      <td>1</td>\n",
              "    </tr>\n",
              "    <tr>\n",
              "      <th>AGR-000068</th>\n",
              "      <td>70</td>\n",
              "      <td>0</td>\n",
              "      <td>36</td>\n",
              "      <td>3</td>\n",
              "      <td>1</td>\n",
              "      <td>2</td>\n",
              "    </tr>\n",
              "    <tr>\n",
              "      <th>AGR-000075</th>\n",
              "      <td>88</td>\n",
              "      <td>0</td>\n",
              "      <td>48</td>\n",
              "      <td>3</td>\n",
              "      <td>1</td>\n",
              "      <td>2</td>\n",
              "    </tr>\n",
              "    <tr>\n",
              "      <th>AGR-000081</th>\n",
              "      <td>163</td>\n",
              "      <td>0</td>\n",
              "      <td>48</td>\n",
              "      <td>5</td>\n",
              "      <td>1</td>\n",
              "      <td>2</td>\n",
              "    </tr>\n",
              "    <tr>\n",
              "      <th>AGR-000094</th>\n",
              "      <td>100</td>\n",
              "      <td>0</td>\n",
              "      <td>36</td>\n",
              "      <td>6</td>\n",
              "      <td>1</td>\n",
              "      <td>2</td>\n",
              "    </tr>\n",
              "  </tbody>\n",
              "</table>\n",
              "</div>"
            ],
            "text/plain": [
              "              pendapatan_setahun_juta  ...  risk_rating\n",
              "kode_kontrak                           ...             \n",
              "AGR-000001                        295  ...            4\n",
              "AGR-000011                        271  ...            4\n",
              "AGR-000030                        159  ...            1\n",
              "AGR-000043                        210  ...            3\n",
              "AGR-000049                        165  ...            2\n",
              "AGR-000063                        220  ...            1\n",
              "AGR-000068                         70  ...            2\n",
              "AGR-000075                         88  ...            2\n",
              "AGR-000081                        163  ...            2\n",
              "AGR-000094                        100  ...            2\n",
              "\n",
              "[10 rows x 6 columns]"
            ]
          },
          "metadata": {
            "tags": []
          },
          "execution_count": 16
        }
      ]
    },
    {
      "cell_type": "markdown",
      "metadata": {
        "id": "L7xSBTvumx1a"
      },
      "source": [
        "## Feature Engineering"
      ]
    },
    {
      "cell_type": "code",
      "metadata": {
        "id": "l7Ox0-fypiy3",
        "colab": {
          "base_uri": "https://localhost:8080/",
          "height": 255
        },
        "outputId": "fc630658-139a-4a1f-c5f9-991437b33c06"
      },
      "source": [
        "df['pendapatan_setahun_juta'] = df['pendapatan_setahun_juta'] / (df['jumlah_tanggungan'] + 1)\n",
        "df.drop(columns=[\"jumlah_tanggungan\"], inplace=True)\n",
        "df.head()"
      ],
      "execution_count": null,
      "outputs": [
        {
          "output_type": "execute_result",
          "data": {
            "text/html": [
              "<div>\n",
              "<style scoped>\n",
              "    .dataframe tbody tr th:only-of-type {\n",
              "        vertical-align: middle;\n",
              "    }\n",
              "\n",
              "    .dataframe tbody tr th {\n",
              "        vertical-align: top;\n",
              "    }\n",
              "\n",
              "    .dataframe thead th {\n",
              "        text-align: right;\n",
              "    }\n",
              "</style>\n",
              "<table border=\"1\" class=\"dataframe\">\n",
              "  <thead>\n",
              "    <tr style=\"text-align: right;\">\n",
              "      <th></th>\n",
              "      <th>pendapatan_setahun_juta</th>\n",
              "      <th>kpr_aktif</th>\n",
              "      <th>durasi_pinjaman_bulan</th>\n",
              "      <th>rata_rata_overdue</th>\n",
              "      <th>risk_rating</th>\n",
              "    </tr>\n",
              "    <tr>\n",
              "      <th>kode_kontrak</th>\n",
              "      <th></th>\n",
              "      <th></th>\n",
              "      <th></th>\n",
              "      <th></th>\n",
              "      <th></th>\n",
              "    </tr>\n",
              "  </thead>\n",
              "  <tbody>\n",
              "    <tr>\n",
              "      <th>AGR-000001</th>\n",
              "      <td>49.166667</td>\n",
              "      <td>1</td>\n",
              "      <td>48</td>\n",
              "      <td>3</td>\n",
              "      <td>4</td>\n",
              "    </tr>\n",
              "    <tr>\n",
              "      <th>AGR-000011</th>\n",
              "      <td>45.166667</td>\n",
              "      <td>1</td>\n",
              "      <td>36</td>\n",
              "      <td>3</td>\n",
              "      <td>4</td>\n",
              "    </tr>\n",
              "    <tr>\n",
              "      <th>AGR-000030</th>\n",
              "      <td>159.000000</td>\n",
              "      <td>0</td>\n",
              "      <td>12</td>\n",
              "      <td>0</td>\n",
              "      <td>1</td>\n",
              "    </tr>\n",
              "    <tr>\n",
              "      <th>AGR-000043</th>\n",
              "      <td>52.500000</td>\n",
              "      <td>1</td>\n",
              "      <td>12</td>\n",
              "      <td>2</td>\n",
              "      <td>3</td>\n",
              "    </tr>\n",
              "    <tr>\n",
              "      <th>AGR-000049</th>\n",
              "      <td>165.000000</td>\n",
              "      <td>0</td>\n",
              "      <td>36</td>\n",
              "      <td>1</td>\n",
              "      <td>2</td>\n",
              "    </tr>\n",
              "  </tbody>\n",
              "</table>\n",
              "</div>"
            ],
            "text/plain": [
              "              pendapatan_setahun_juta  ...  risk_rating\n",
              "kode_kontrak                           ...             \n",
              "AGR-000001                  49.166667  ...            4\n",
              "AGR-000011                  45.166667  ...            4\n",
              "AGR-000030                 159.000000  ...            1\n",
              "AGR-000043                  52.500000  ...            3\n",
              "AGR-000049                 165.000000  ...            2\n",
              "\n",
              "[5 rows x 5 columns]"
            ]
          },
          "metadata": {
            "tags": []
          },
          "execution_count": 17
        }
      ]
    },
    {
      "cell_type": "markdown",
      "metadata": {
        "id": "a6jUf0ZsCEjN"
      },
      "source": [
        "## Pemodelan Machine learning"
      ]
    },
    {
      "cell_type": "code",
      "metadata": {
        "id": "zp3bieV0A34B"
      },
      "source": [
        "from sklearn.neighbors import KNeighborsClassifier\n",
        "from sklearn.model_selection import train_test_split\n",
        "from sklearn.metrics import classification_report\n",
        "from sklearn.ensemble import RandomForestClassifier"
      ],
      "execution_count": null,
      "outputs": []
    },
    {
      "cell_type": "code",
      "metadata": {
        "id": "0bydVCRc8NG_",
        "colab": {
          "base_uri": "https://localhost:8080/",
          "height": 235
        },
        "outputId": "5067edbd-bd49-48e4-95ec-a22eb2ce66bd"
      },
      "source": [
        "X = df.iloc[:,:(len(df.columns)-1)]\n",
        "y = df.iloc[:,(len(df.columns)-1):]\n",
        "X_train, X_test, y_train, y_test = train_test_split(X, y, test_size = 0.33, \n",
        "                                                    random_state = 42)\n",
        "\n",
        "y.head()"
      ],
      "execution_count": null,
      "outputs": [
        {
          "output_type": "execute_result",
          "data": {
            "text/html": [
              "<div>\n",
              "<style scoped>\n",
              "    .dataframe tbody tr th:only-of-type {\n",
              "        vertical-align: middle;\n",
              "    }\n",
              "\n",
              "    .dataframe tbody tr th {\n",
              "        vertical-align: top;\n",
              "    }\n",
              "\n",
              "    .dataframe thead th {\n",
              "        text-align: right;\n",
              "    }\n",
              "</style>\n",
              "<table border=\"1\" class=\"dataframe\">\n",
              "  <thead>\n",
              "    <tr style=\"text-align: right;\">\n",
              "      <th></th>\n",
              "      <th>risk_rating</th>\n",
              "    </tr>\n",
              "    <tr>\n",
              "      <th>kode_kontrak</th>\n",
              "      <th></th>\n",
              "    </tr>\n",
              "  </thead>\n",
              "  <tbody>\n",
              "    <tr>\n",
              "      <th>AGR-000001</th>\n",
              "      <td>4</td>\n",
              "    </tr>\n",
              "    <tr>\n",
              "      <th>AGR-000011</th>\n",
              "      <td>4</td>\n",
              "    </tr>\n",
              "    <tr>\n",
              "      <th>AGR-000030</th>\n",
              "      <td>1</td>\n",
              "    </tr>\n",
              "    <tr>\n",
              "      <th>AGR-000043</th>\n",
              "      <td>3</td>\n",
              "    </tr>\n",
              "    <tr>\n",
              "      <th>AGR-000049</th>\n",
              "      <td>2</td>\n",
              "    </tr>\n",
              "  </tbody>\n",
              "</table>\n",
              "</div>"
            ],
            "text/plain": [
              "              risk_rating\n",
              "kode_kontrak             \n",
              "AGR-000001              4\n",
              "AGR-000011              4\n",
              "AGR-000030              1\n",
              "AGR-000043              3\n",
              "AGR-000049              2"
            ]
          },
          "metadata": {
            "tags": []
          },
          "execution_count": 19
        }
      ]
    },
    {
      "cell_type": "code",
      "metadata": {
        "id": "3EkvH3oKFj_C",
        "colab": {
          "base_uri": "https://localhost:8080/"
        },
        "outputId": "1fcccf3b-ca68-49aa-ba93-6e3464c7d30b"
      },
      "source": [
        "KNNku = KNeighborsClassifier()\n",
        "KNNku.fit(X_train, y_train)\n",
        "y_prediksiku = KNNku.predict(X_test)\n",
        "\n",
        "print(\"DENGAN menggunakan KNN\")\n",
        "print(classification_report(y_test,y_prediksiku))"
      ],
      "execution_count": null,
      "outputs": [
        {
          "output_type": "stream",
          "text": [
            "DENGAN menggunakan KNN\n",
            "              precision    recall  f1-score   support\n",
            "\n",
            "           1       0.71      0.68      0.69        80\n",
            "           2       0.46      0.43      0.44        54\n",
            "           3       0.54      0.75      0.63        77\n",
            "           4       0.60      0.32      0.41        38\n",
            "           5       0.74      0.63      0.68        27\n",
            "\n",
            "    accuracy                           0.59       276\n",
            "   macro avg       0.61      0.56      0.57       276\n",
            "weighted avg       0.60      0.59      0.59       276\n",
            "\n"
          ],
          "name": "stdout"
        },
        {
          "output_type": "stream",
          "text": [
            "/usr/local/lib/python3.7/dist-packages/ipykernel_launcher.py:2: DataConversionWarning: A column-vector y was passed when a 1d array was expected. Please change the shape of y to (n_samples, ), for example using ravel().\n",
            "  \n"
          ],
          "name": "stderr"
        }
      ]
    },
    {
      "cell_type": "code",
      "metadata": {
        "colab": {
          "base_uri": "https://localhost:8080/"
        },
        "id": "blSd9fNi4UVJ",
        "outputId": "f9d06e6a-4434-4137-d7af-deecb3da7315"
      },
      "source": [
        "pohonku = RandomForestClassifier(random_state=42)\n",
        "pohonku.fit(X_train, y_train)\n",
        "y_prediksiku = pohonku.predict(X_test)\n",
        "\n",
        "print(\"DENGAN menggunakan RandomForestClassifier\")\n",
        "print(classification_report(y_test,y_prediksiku))"
      ],
      "execution_count": null,
      "outputs": [
        {
          "output_type": "stream",
          "text": [
            "/usr/local/lib/python3.7/dist-packages/ipykernel_launcher.py:2: DataConversionWarning: A column-vector y was passed when a 1d array was expected. Please change the shape of y to (n_samples,), for example using ravel().\n",
            "  \n"
          ],
          "name": "stderr"
        },
        {
          "output_type": "stream",
          "text": [
            "DENGAN menggunakan RandomForestClassifier\n",
            "              precision    recall  f1-score   support\n",
            "\n",
            "           1       1.00      1.00      1.00        80\n",
            "           2       1.00      1.00      1.00        54\n",
            "           3       1.00      1.00      1.00        77\n",
            "           4       1.00      1.00      1.00        38\n",
            "           5       1.00      1.00      1.00        27\n",
            "\n",
            "    accuracy                           1.00       276\n",
            "   macro avg       1.00      1.00      1.00       276\n",
            "weighted avg       1.00      1.00      1.00       276\n",
            "\n"
          ],
          "name": "stdout"
        }
      ]
    },
    {
      "cell_type": "code",
      "metadata": {
        "id": "TsYG3aM3tJeP",
        "colab": {
          "base_uri": "https://localhost:8080/"
        },
        "outputId": "bcae87af-4b1a-4fb0-b772-a09ff6747bda"
      },
      "source": [
        "from sklearn.tree import plot_tree\n",
        "len(pohonku.estimators_)"
      ],
      "execution_count": null,
      "outputs": [
        {
          "output_type": "execute_result",
          "data": {
            "text/plain": [
              "100"
            ]
          },
          "metadata": {
            "tags": []
          },
          "execution_count": 28
        }
      ]
    },
    {
      "cell_type": "code",
      "metadata": {
        "colab": {
          "base_uri": "https://localhost:8080/",
          "height": 1000
        },
        "id": "h9Ivt2Gcgu6X",
        "outputId": "51d009cc-27cf-4f11-effe-423d9b08b2de"
      },
      "source": [
        "plt.figure(figsize=(20,15))\n",
        "urutan = sorted(y['risk_rating'].unique())\n",
        "urutan = [str(i) for i in urutan]\n",
        "plot_tree(pohonku.estimators_[99],\n",
        "          feature_names=X.columns,\n",
        "          class_names=urutan,\n",
        "          filled=True)"
      ],
      "execution_count": null,
      "outputs": [
        {
          "output_type": "execute_result",
          "data": {
            "text/plain": [
              "[Text(623.6470588235294, 747.4499999999999, 'pendapatan_setahun_juta <= 54.333\\ngini = 0.765\\nsamples = 361\\nvalue = [129, 97, 194, 76, 63]\\nclass = 3'),\n",
              " Text(459.52941176470586, 611.55, 'rata_rata_overdue <= 2.5\\ngini = 0.705\\nsamples = 219\\nvalue = [12, 44, 157, 75, 63]\\nclass = 3'),\n",
              " Text(328.235294117647, 475.65, 'rata_rata_overdue <= 1.5\\ngini = 0.411\\nsamples = 134\\nvalue = [12, 44, 157, 0, 0]\\nclass = 3'),\n",
              " Text(262.5882352941176, 339.74999999999994, 'kpr_aktif <= 0.5\\ngini = 0.337\\nsamples = 37\\nvalue = [12, 44, 0, 0, 0]\\nclass = 2'),\n",
              " Text(131.2941176470588, 203.8499999999999, 'rata_rata_overdue <= 0.5\\ngini = 0.311\\nsamples = 35\\nvalue = [10, 42, 0, 0, 0]\\nclass = 2'),\n",
              " Text(65.6470588235294, 67.94999999999993, 'gini = 0.0\\nsamples = 6\\nvalue = [10, 0, 0, 0, 0]\\nclass = 1'),\n",
              " Text(196.94117647058823, 67.94999999999993, 'gini = 0.0\\nsamples = 29\\nvalue = [0, 42, 0, 0, 0]\\nclass = 2'),\n",
              " Text(393.88235294117646, 203.8499999999999, 'durasi_pinjaman_bulan <= 42.0\\ngini = 0.5\\nsamples = 2\\nvalue = [2, 2, 0, 0, 0]\\nclass = 1'),\n",
              " Text(328.235294117647, 67.94999999999993, 'gini = 0.0\\nsamples = 1\\nvalue = [2, 0, 0, 0, 0]\\nclass = 1'),\n",
              " Text(459.52941176470586, 67.94999999999993, 'gini = 0.0\\nsamples = 1\\nvalue = [0, 2, 0, 0, 0]\\nclass = 2'),\n",
              " Text(393.88235294117646, 339.74999999999994, 'gini = 0.0\\nsamples = 97\\nvalue = [0, 0, 157, 0, 0]\\nclass = 3'),\n",
              " Text(590.8235294117646, 475.65, 'rata_rata_overdue <= 3.5\\ngini = 0.496\\nsamples = 85\\nvalue = [0, 0, 0, 75, 63]\\nclass = 4'),\n",
              " Text(525.1764705882352, 339.74999999999994, 'gini = 0.0\\nsamples = 46\\nvalue = [0, 0, 0, 75, 0]\\nclass = 4'),\n",
              " Text(656.470588235294, 339.74999999999994, 'gini = 0.0\\nsamples = 39\\nvalue = [0, 0, 0, 0, 63]\\nclass = 5'),\n",
              " Text(787.7647058823529, 611.55, 'rata_rata_overdue <= 0.5\\ngini = 0.587\\nsamples = 142\\nvalue = [117, 53, 37, 1, 0]\\nclass = 1'),\n",
              " Text(722.1176470588234, 475.65, 'gini = 0.0\\nsamples = 79\\nvalue = [117, 0, 0, 0, 0]\\nclass = 1'),\n",
              " Text(853.4117647058823, 475.65, 'kpr_aktif <= 0.5\\ngini = 0.495\\nsamples = 63\\nvalue = [0, 53, 37, 1, 0]\\nclass = 2'),\n",
              " Text(787.7647058823529, 339.74999999999994, 'gini = 0.0\\nsamples = 35\\nvalue = [0, 53, 0, 0, 0]\\nclass = 2'),\n",
              " Text(919.0588235294117, 339.74999999999994, 'durasi_pinjaman_bulan <= 30.0\\ngini = 0.051\\nsamples = 28\\nvalue = [0, 0, 37, 1, 0]\\nclass = 3'),\n",
              " Text(853.4117647058823, 203.8499999999999, 'gini = 0.0\\nsamples = 2\\nvalue = [0, 0, 2, 0, 0]\\nclass = 3'),\n",
              " Text(984.7058823529411, 203.8499999999999, 'rata_rata_overdue <= 2.5\\ngini = 0.054\\nsamples = 26\\nvalue = [0, 0, 35, 1, 0]\\nclass = 3'),\n",
              " Text(919.0588235294117, 67.94999999999993, 'gini = 0.0\\nsamples = 25\\nvalue = [0, 0, 35, 0, 0]\\nclass = 3'),\n",
              " Text(1050.3529411764705, 67.94999999999993, 'gini = 0.0\\nsamples = 1\\nvalue = [0, 0, 0, 1, 0]\\nclass = 4')]"
            ]
          },
          "metadata": {
            "tags": []
          },
          "execution_count": 46
        },
        {
          "output_type": "display_data",
          "data": {
            "image/png": "[encoded data removed]",
            "text/plain": [
              "<Figure size 1440x1080 with 1 Axes>"
            ]
          },
          "metadata": {
            "tags": [],
            "needs_background": "light"
          }
        }
      ]
    }
  ]
}