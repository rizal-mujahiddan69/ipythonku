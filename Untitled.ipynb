{
 "cells": [
  {
   "cell_type": "code",
   "execution_count": 3,
   "id": "understood-method",
   "metadata": {},
   "outputs": [],
   "source": [
    "!cd ../"
   ]
  },
  {
   "cell_type": "code",
   "execution_count": 6,
   "id": "shaped-blond",
   "metadata": {},
   "outputs": [
    {
     "name": "stdout",
     "output_type": "stream",
     "text": [
      "C:\\Users\\ASUS\\Documents\\data mining\n"
     ]
    }
   ],
   "source": [
    "cd ../"
   ]
  },
  {
   "cell_type": "code",
   "execution_count": 7,
   "id": "circular-theory",
   "metadata": {},
   "outputs": [
    {
     "name": "stdout",
     "output_type": "stream",
     "text": [
      " Volume in drive C is OS\n",
      " Volume Serial Number is 78CD-ADD1\n",
      "\n",
      " Directory of C:\\Users\\ASUS\\Documents\\data mining\n",
      "\n",
      "02-Aug-21  07:41 AM    <DIR>          .\n",
      "02-Aug-21  07:41 AM    <DIR>          ..\n",
      "20-Jul-21  11:15 AM    <DIR>          .ipynb_checkpoints\n",
      "04-Aug-21  01:54 PM    <DIR>          buku data mining\n",
      "17-Apr-21  07:10 PM             1,915 foto_pca_revisi.py\n",
      "01-Jul-21  02:11 AM    <DIR>          home-data\n",
      "07-Aug-21  05:33 AM    <DIR>          ipythonku\n",
      "27-Jul-21  10:35 AM               423 jpgtopng.py\n",
      "20-Jul-21  11:08 AM             9,745 latihan numpy.ipynb\n",
      "07-Aug-21  05:20 AM    <DIR>          pandasku\n",
      "12-Apr-21  01:01 PM               256 pca.py\n",
      "06-Apr-21  02:37 PM               421 regresi.py\n",
      "25-Jul-21  09:57 AM    <DIR>          rockpaperscissors\n",
      "22-Jul-21  08:18 AM                67 test_idle.py\n",
      "17-Jul-21  11:03 AM    <DIR>          titanic\n",
      "               6 File(s)         12,827 bytes\n",
      "               9 Dir(s)  258,964,353,024 bytes free\n"
     ]
    }
   ],
   "source": [
    "!dir"
   ]
  },
  {
   "cell_type": "code",
   "execution_count": 8,
   "id": "timely-former",
   "metadata": {},
   "outputs": [
    {
     "name": "stdout",
     "output_type": "stream",
     "text": [
      "C:\\Users\\ASUS\\Documents\\data mining\\pandasku\n"
     ]
    }
   ],
   "source": [
    "cd pandasku"
   ]
  },
  {
   "cell_type": "code",
   "execution_count": 9,
   "id": "explicit-status",
   "metadata": {},
   "outputs": [
    {
     "name": "stdout",
     "output_type": "stream",
     "text": [
      " Volume in drive C is OS\n",
      " Volume Serial Number is 78CD-ADD1\n",
      "\n",
      " Directory of C:\\Users\\ASUS\\Documents\\data mining\\pandasku\n",
      "\n",
      "07-Aug-21  05:20 AM    <DIR>          .\n",
      "07-Aug-21  05:20 AM    <DIR>          ..\n",
      "07-Aug-21  05:20 AM             7,163 emailku.csv\n",
      "02-Aug-21  08:00 AM               144 nilai.csv\n",
      "02-Aug-21  08:00 AM                95 penilai.csv\n",
      "               3 File(s)          7,402 bytes\n",
      "               2 Dir(s)  258,963,075,072 bytes free\n"
     ]
    }
   ],
   "source": [
    "!dir"
   ]
  },
  {
   "cell_type": "code",
   "execution_count": 10,
   "id": "excellent-seating",
   "metadata": {},
   "outputs": [
    {
     "name": "stdout",
     "output_type": "stream",
     "text": [
      "emailku.csv\n",
      "nilai.csv\n",
      "penilai.csv\n"
     ]
    }
   ],
   "source": [
    "import os\n",
    "direc = os.listdir()\n",
    "for i in direc:\n",
    "    print(i,sep=' ')"
   ]
  },
  {
   "cell_type": "code",
   "execution_count": 12,
   "id": "british-librarian",
   "metadata": {},
   "outputs": [
    {
     "data": {
      "text/html": [
       "<div>\n",
       "<style scoped>\n",
       "    .dataframe tbody tr th:only-of-type {\n",
       "        vertical-align: middle;\n",
       "    }\n",
       "\n",
       "    .dataframe tbody tr th {\n",
       "        vertical-align: top;\n",
       "    }\n",
       "\n",
       "    .dataframe thead th {\n",
       "        text-align: right;\n",
       "    }\n",
       "</style>\n",
       "<table border=\"1\" class=\"dataframe\">\n",
       "  <thead>\n",
       "    <tr style=\"text-align: right;\">\n",
       "      <th></th>\n",
       "      <th>no</th>\n",
       "      <th>email</th>\n",
       "    </tr>\n",
       "  </thead>\n",
       "  <tbody>\n",
       "    <tr>\n",
       "      <th>0</th>\n",
       "      <td>1</td>\n",
       "      <td>febrianirifqah@apps.ipb.ac.id</td>\n",
       "    </tr>\n",
       "    <tr>\n",
       "      <th>1</th>\n",
       "      <td>2</td>\n",
       "      <td>01risyantiria@apps.ipb.ac.id</td>\n",
       "    </tr>\n",
       "    <tr>\n",
       "      <th>2</th>\n",
       "      <td>3</td>\n",
       "      <td>Liliana_adhi@apps.ipb.ac.id</td>\n",
       "    </tr>\n",
       "    <tr>\n",
       "      <th>3</th>\n",
       "      <td>4</td>\n",
       "      <td>hestraarya@apps.ipb.ac.id</td>\n",
       "    </tr>\n",
       "    <tr>\n",
       "      <th>4</th>\n",
       "      <td>5</td>\n",
       "      <td>nadarania@apps.ipb.ac.id</td>\n",
       "    </tr>\n",
       "  </tbody>\n",
       "</table>\n",
       "</div>"
      ],
      "text/plain": [
       "   no                          email\n",
       "0   1  febrianirifqah@apps.ipb.ac.id\n",
       "1   2   01risyantiria@apps.ipb.ac.id\n",
       "2   3    Liliana_adhi@apps.ipb.ac.id\n",
       "3   4      hestraarya@apps.ipb.ac.id\n",
       "4   5       nadarania@apps.ipb.ac.id"
      ]
     },
     "execution_count": 12,
     "metadata": {},
     "output_type": "execute_result"
    }
   ],
   "source": [
    "import pandas as pd\n",
    "df = pd.read_csv(\"C:/Users/ASUS/Documents/data mining/pandasku/emailku.csv\")\n",
    "df.head()"
   ]
  },
  {
   "cell_type": "code",
   "execution_count": 14,
   "id": "published-white",
   "metadata": {},
   "outputs": [
    {
     "data": {
      "text/html": [
       "<div>\n",
       "<style scoped>\n",
       "    .dataframe tbody tr th:only-of-type {\n",
       "        vertical-align: middle;\n",
       "    }\n",
       "\n",
       "    .dataframe tbody tr th {\n",
       "        vertical-align: top;\n",
       "    }\n",
       "\n",
       "    .dataframe thead th {\n",
       "        text-align: right;\n",
       "    }\n",
       "</style>\n",
       "<table border=\"1\" class=\"dataframe\">\n",
       "  <thead>\n",
       "    <tr style=\"text-align: right;\">\n",
       "      <th></th>\n",
       "      <th>no</th>\n",
       "      <th>email</th>\n",
       "    </tr>\n",
       "  </thead>\n",
       "  <tbody>\n",
       "    <tr>\n",
       "      <th>0</th>\n",
       "      <td>1</td>\n",
       "      <td>febrianirifqah@apps.ipb.ac.id</td>\n",
       "    </tr>\n",
       "    <tr>\n",
       "      <th>1</th>\n",
       "      <td>2</td>\n",
       "      <td>01risyantiria@apps.ipb.ac.id</td>\n",
       "    </tr>\n",
       "    <tr>\n",
       "      <th>2</th>\n",
       "      <td>3</td>\n",
       "      <td>Liliana_adhi@apps.ipb.ac.id</td>\n",
       "    </tr>\n",
       "    <tr>\n",
       "      <th>3</th>\n",
       "      <td>4</td>\n",
       "      <td>hestraarya@apps.ipb.ac.id</td>\n",
       "    </tr>\n",
       "    <tr>\n",
       "      <th>4</th>\n",
       "      <td>5</td>\n",
       "      <td>nadarania@apps.ipb.ac.id</td>\n",
       "    </tr>\n",
       "    <tr>\n",
       "      <th>...</th>\n",
       "      <td>...</td>\n",
       "      <td>...</td>\n",
       "    </tr>\n",
       "    <tr>\n",
       "      <th>214</th>\n",
       "      <td>215</td>\n",
       "      <td>audriaulia13masita@apps.ipb.ac.id</td>\n",
       "    </tr>\n",
       "    <tr>\n",
       "      <th>215</th>\n",
       "      <td>216</td>\n",
       "      <td>Az_zahramonra@apps.ipb.ac.id</td>\n",
       "    </tr>\n",
       "    <tr>\n",
       "      <th>216</th>\n",
       "      <td>217</td>\n",
       "      <td>dianhendiana@apps.ipb.ac.id</td>\n",
       "    </tr>\n",
       "    <tr>\n",
       "      <th>217</th>\n",
       "      <td>218</td>\n",
       "      <td>Salma_2509@apps.ipb.ac.id</td>\n",
       "    </tr>\n",
       "    <tr>\n",
       "      <th>219</th>\n",
       "      <td>220</td>\n",
       "      <td>fathinahmad@apps.ipb.ac.id</td>\n",
       "    </tr>\n",
       "  </tbody>\n",
       "</table>\n",
       "<p>151 rows × 2 columns</p>\n",
       "</div>"
      ],
      "text/plain": [
       "      no                              email\n",
       "0      1      febrianirifqah@apps.ipb.ac.id\n",
       "1      2       01risyantiria@apps.ipb.ac.id\n",
       "2      3        Liliana_adhi@apps.ipb.ac.id\n",
       "3      4          hestraarya@apps.ipb.ac.id\n",
       "4      5           nadarania@apps.ipb.ac.id\n",
       "..   ...                                ...\n",
       "214  215  audriaulia13masita@apps.ipb.ac.id\n",
       "215  216       Az_zahramonra@apps.ipb.ac.id\n",
       "216  217        dianhendiana@apps.ipb.ac.id\n",
       "217  218          Salma_2509@apps.ipb.ac.id\n",
       "219  220         fathinahmad@apps.ipb.ac.id\n",
       "\n",
       "[151 rows x 2 columns]"
      ]
     },
     "execution_count": 14,
     "metadata": {},
     "output_type": "execute_result"
    }
   ],
   "source": [
    "ipb_ku = df[df[\"email\"].str.find(\"apps.ipb.ac.id\") != -1]\n",
    "ipb_ku"
   ]
  },
  {
   "cell_type": "code",
   "execution_count": 15,
   "id": "chief-conversion",
   "metadata": {},
   "outputs": [
    {
     "data": {
      "text/html": [
       "<div>\n",
       "<style scoped>\n",
       "    .dataframe tbody tr th:only-of-type {\n",
       "        vertical-align: middle;\n",
       "    }\n",
       "\n",
       "    .dataframe tbody tr th {\n",
       "        vertical-align: top;\n",
       "    }\n",
       "\n",
       "    .dataframe thead th {\n",
       "        text-align: right;\n",
       "    }\n",
       "</style>\n",
       "<table border=\"1\" class=\"dataframe\">\n",
       "  <thead>\n",
       "    <tr style=\"text-align: right;\">\n",
       "      <th></th>\n",
       "      <th>no</th>\n",
       "      <th>email</th>\n",
       "    </tr>\n",
       "  </thead>\n",
       "  <tbody>\n",
       "    <tr>\n",
       "      <th>5</th>\n",
       "      <td>6</td>\n",
       "      <td>AISaharaKushendaryanti</td>\n",
       "    </tr>\n",
       "    <tr>\n",
       "      <th>9</th>\n",
       "      <td>10</td>\n",
       "      <td>patur619@gmail.com</td>\n",
       "    </tr>\n",
       "    <tr>\n",
       "      <th>14</th>\n",
       "      <td>15</td>\n",
       "      <td>ehaa21suleha@gmail.com</td>\n",
       "    </tr>\n",
       "    <tr>\n",
       "      <th>34</th>\n",
       "      <td>35</td>\n",
       "      <td>Akifalaila07@gmail.com</td>\n",
       "    </tr>\n",
       "    <tr>\n",
       "      <th>35</th>\n",
       "      <td>36</td>\n",
       "      <td>yuriko_kato@apps.ipb.ac.ic</td>\n",
       "    </tr>\n",
       "    <tr>\n",
       "      <th>...</th>\n",
       "      <td>...</td>\n",
       "      <td>...</td>\n",
       "    </tr>\n",
       "    <tr>\n",
       "      <th>199</th>\n",
       "      <td>200</td>\n",
       "      <td>aldafadhilla@gmail.com</td>\n",
       "    </tr>\n",
       "    <tr>\n",
       "      <th>200</th>\n",
       "      <td>201</td>\n",
       "      <td>syarahasma@gmail.com</td>\n",
       "    </tr>\n",
       "    <tr>\n",
       "      <th>208</th>\n",
       "      <td>209</td>\n",
       "      <td>srchairunnisa@gmail.com</td>\n",
       "    </tr>\n",
       "    <tr>\n",
       "      <th>218</th>\n",
       "      <td>219</td>\n",
       "      <td>rahmasithoh@gmail.com</td>\n",
       "    </tr>\n",
       "    <tr>\n",
       "      <th>220</th>\n",
       "      <td>221</td>\n",
       "      <td>iamriennardi31@gmai.com</td>\n",
       "    </tr>\n",
       "  </tbody>\n",
       "</table>\n",
       "<p>70 rows × 2 columns</p>\n",
       "</div>"
      ],
      "text/plain": [
       "      no                       email\n",
       "5      6      AISaharaKushendaryanti\n",
       "9     10          patur619@gmail.com\n",
       "14    15      ehaa21suleha@gmail.com\n",
       "34    35      Akifalaila07@gmail.com\n",
       "35    36  yuriko_kato@apps.ipb.ac.ic\n",
       "..   ...                         ...\n",
       "199  200      aldafadhilla@gmail.com\n",
       "200  201        syarahasma@gmail.com\n",
       "208  209     srchairunnisa@gmail.com\n",
       "218  219       rahmasithoh@gmail.com\n",
       "220  221     iamriennardi31@gmai.com\n",
       "\n",
       "[70 rows x 2 columns]"
      ]
     },
     "execution_count": 15,
     "metadata": {},
     "output_type": "execute_result"
    }
   ],
   "source": [
    "bukan_ipb = df[df[\"email\"].str.find(\"apps.ipb.ac.id\") == -1]\n",
    "bukan_ipb"
   ]
  },
  {
   "cell_type": "code",
   "execution_count": 25,
   "id": "contrary-sellers",
   "metadata": {},
   "outputs": [],
   "source": [
    "bukan_ipb.set_index(\"no\",inplace=True)"
   ]
  },
  {
   "cell_type": "code",
   "execution_count": 43,
   "id": "immune-effect",
   "metadata": {},
   "outputs": [
    {
     "name": "stdout",
     "output_type": "stream",
     "text": [
      "AISaharaKushendaryanti\n",
      "patur619@gmail.com\n",
      "ehaa21suleha@gmail.com\n",
      "Akifalaila07@gmail.com\n",
      "yuriko_kato@apps.ipb.ac.ic\n",
      "akbarhafizh@gmail.com\n",
      "wijayanticucu@gmail.com\n",
      "revinarefi9@yahoo.com\n",
      "Nananaimah@gmail.com\n",
      "ratna.sani97@gmail.com\n",
      "riadwisulastri@gmail.com\n",
      "fahadalfazali98@gmail.com\n",
      "rettyanggela36@gmail.com\n",
      "anindyaseptis@gmail.com\n",
      "sukaina.adibi@gmail.com\n",
      "fandytikonu@yahoo.com\n",
      "fernandoaryanegara123@gmail.com\n",
      "Ghinary02@gmail.com\n",
      "evakadmaer@apps.ipb.ac\n",
      "nabilmafazihusein@gmail.com\n",
      "20160212001ujang@gmail.com\n",
      "alfarrahdhifa@gmail.com\n",
      "ipanguspian44@gmail.com\n",
      "sitimalika51@gmail.com\n",
      "sophianasution223@gmail.com\n",
      "mustafahardi4@gmail.com\n",
      "aisyahfathiatia15@gmail.com\n",
      "wayautami88@gmail.com\n",
      "emiraldagamasari@gmail.com\n",
      "rista.ardy.43n@kyoto-u.jp\n",
      "abdul.aziz@lapan.go.id\n",
      "dhikatr@yahoo.com\n",
      "awildan16kk@gmail.com\n",
      "yudhahanggara11@gmail.com\n",
      "4443200023@untirta.ac.id\n",
      "Lymbarsk.lcr@bsi.ac.id\n",
      "ekakrisnayanti814@gmail.com\n",
      "arasy_pasandia@apps.ipb\n",
      "Idvanibe@yahoo.co.id\n",
      "Pmawaddah429@gmail.com\n",
      "ml944833@gmail.com\n",
      "fiqriadham01@gmail.com\n",
      "ali179yorkshire@gmail.com\n",
      "arismasiregar1997@gmail.com\n",
      "rizkydesriana@gmail.com\n",
      "abiblutfi1@gmail.com\n",
      "dendendilah26@gmail.com\n",
      "itafirani48@gmail.com\n",
      "dikahsy123@gmail.com\n",
      "20.mzidane@gmail.com\n",
      "ismaindriyanahanum@gmail.com\n",
      "dafafaiz2002@gmail.com\n",
      "zhafirahprameswari@gmail.com\n",
      "angelmpradina@gmail.com\n",
      "cchairunnisadewianggraini@gmail.com\n",
      "radhwahayyu29@gmail.com\n",
      "Alfanrachmat14@gmail.com\n",
      "rifatabdat4@gmail.com\n",
      "mutiarasukmaayuparamitha@gmail.com\n",
      "nickyhitalessy@gmail.com\n",
      "vegapuan@gmail.com\n",
      "Asriy158@gmail.com\n",
      "nurulannisarn@gmail.com\n",
      "Zelin.syafri@gmail.com\n",
      "sanijsinurat@gmail.com\n",
      "aldafadhilla@gmail.com\n",
      "syarahasma@gmail.com\n",
      "srchairunnisa@gmail.com\n",
      "rahmasithoh@gmail.com\n",
      "iamriennardi31@gmai.com\n"
     ]
    }
   ],
   "source": [
    "for i in bukan_ipb.iterrows():\n",
    "    hasil = str(i[1])\n",
    "    tuliskan = hasil.split()[1]\n",
    "    \n",
    "        print(tuliskan)"
   ]
  }
 ],
 "metadata": {
  "kernelspec": {
   "display_name": "Python 3",
   "language": "python",
   "name": "python3"
  },
  "language_info": {
   "codemirror_mode": {
    "name": "ipython",
    "version": 3
   },
   "file_extension": ".py",
   "mimetype": "text/x-python",
   "name": "python",
   "nbconvert_exporter": "python",
   "pygments_lexer": "ipython3",
   "version": "3.9.6"
  }
 },
 "nbformat": 4,
 "nbformat_minor": 5
}
