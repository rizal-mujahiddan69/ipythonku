{
 "cells": [
  {
   "cell_type": "markdown",
   "id": "20b0b16f",
   "metadata": {},
   "source": [
    "## Conditional and Loops Statement"
   ]
  },
  {
   "cell_type": "markdown",
   "id": "3edd8fa1",
   "metadata": {},
   "source": [
    "### Conditional Execution (if-else statement)\n",
    "\n",
    "Instruksi kondisional merupakan salah satu struktur pemrograman yang memungkinkan untuk dilakukan pengecekan terhadap nilai logika dari suatu statement. Secara sederhana dituliskan dalam bentuk: <br> \n",
    "\n",
    "> **if statement_benar_atau_tidak :<br><br>&nbsp;&nbsp;&nbsp;&nbsp;\n",
    ">lakukan_jika_statement_benar**\n",
    "\n",
    "Komponen *Conditional Statement* terdiri dari:<br>\n",
    "- Keyword <mark>**if**</mark>\n",
    "- Statement yang akan dicek nilai logic (Jika True nilainya 1, Jika False nilainya 0)\n",
    "- Tanda colon ( : )\n",
    "- Baris baru (newline) dengan indentasi\n",
    "- instruksi ekspresi/statement yang akan dilakukan jika nilai logic benar (True)\n",
    "<br>\n",
    "\n",
    "Bagaimana *Conditional Statement* ini dieksekusi?\n",
    "- Jika statement setelah <mark>if</mark> bernilai benar(True), maka semua instruksi statement akan dieksekusi\n",
    "- Jika statement setelah <mark>if</mark> bernilai Salah(False), maka semua instruksi diabaikan/dilewati"
   ]
  },
  {
   "cell_type": "markdown",
   "id": "c5d71b08",
   "metadata": {},
   "source": [
    "**Latihan if statement**\n",
    "1. Buat if statement untuk mengecek nilai input yang diberikan. Jika nilai lebih besar sama dengan 75 maka akan cetak \"**Anda Mendapat Nilai A**\"\n",
    "\n",
    "<!--\n",
    "\n",
    "n = int(input())\n",
    "if n >= 75 :\n",
    "    print(\"Anda Mendapat Nilai A\")\n",
    "\n",
    "-->\n",
    "\n",
    "2. Buat if statement untuk mengecek nilai input yang diberikan genap. Jika nilainya genap maka cetak nilai (sebutkan nilainya) adalah genap\n",
    "\n",
    "<!--\n",
    " \n",
    "n = int(input())\n",
    "if n % 2 == 0 :\n",
    "    print(\"Nilai \", n, \"adalah Genap\")\n",
    "\n",
    "-->\n",
    "&nbsp;&nbsp;&nbsp;&nbsp;&nbsp;&nbsp;\n",
    "*Klik 2 kali (Klik Enter)*"
   ]
  },
  {
   "cell_type": "markdown",
   "id": "e9c6b2bf",
   "metadata": {},
   "source": [
    "Variasi **Conditional Statement** adalah **if-else** Statement. Berbeda dari sebelumnya, untuk kondisi **\"else\"**, menyatakan jika statement setelah if bernilai Salah(False), maka instruksi yang dilakukan adalah himpunan instruksi setelah keyword **else :** <br>\n",
    "> **if statement_benar_atau_tidak :<br><br>&nbsp;&nbsp;&nbsp;&nbsp;\n",
    "> lakukan_jika_statement_benar <br><br>\n",
    "> else : <br><br>&nbsp;&nbsp;&nbsp;&nbsp;\n",
    "> lakukan_jika_statement_salah**"
   ]
  },
  {
   "cell_type": "markdown",
   "id": "e5c29103",
   "metadata": {},
   "source": [
    "**Latihan if-else statement**\n",
    "1. Buat if-else statement untuk mengecek nilai input yang diberikan. Jika nilai lebih besar sama dengan 75 maka akan cetak \"**Anda Mendapat Nilai A**\", selainnya \"**Anda Belum Beruntung..**\"\n",
    "\n",
    "<!--\n",
    "\n",
    "n = int(float(input()))\n",
    "if n >= 75 :\n",
    "    print(\"Anda Mendapat Nilai A\")\n",
    "else:\n",
    "    print(\"Anda Belum Beruntung..\")\n",
    "\n",
    "-->\n",
    "\n",
    "2. Buat if statement untuk mengecek nilai input yang diberikan genap. Jika nilainya genap maka cetak nilai (sebutkan nilainya) adalah genap, selainnya maka cetak nilai (sebutkan nilainya) adalah ganjil.\n",
    "\n",
    "<!--\n",
    " \n",
    "n = int(input())\n",
    "if n % 2 == 0 :\n",
    "    print(\"Nilai \", n, \"adalah Genap\")\n",
    "else :\n",
    "    print(\"Nilai \", n, \"adalah Ganjil\")\n",
    "\n",
    "-->\n",
    "&nbsp;&nbsp;&nbsp;&nbsp;&nbsp;&nbsp;\n",
    "*Klik 2 kali (Klik Enter)*"
   ]
  },
  {
   "cell_type": "markdown",
   "id": "5f7ece21",
   "metadata": {},
   "source": [
    "Variasi **Conditional Statement** berikutnya adalah **elif** Statement. Berbeda dari 2 bentuk sebelumnya(if-statement dan if-else statement), untuk kondisi **\"elif\"** statement, menyatakan jika statement setelah if bernilai Salah(False), maka selanjutnya akan melakukan nilai kebenaran dari statement setelah keyword **elif**. Untuk keyword **else** menjadi opsional <br>\n",
    "> **if statement_benar_atau_tidak :<br><br>&nbsp;&nbsp;&nbsp;&nbsp;\n",
    "> lakukan_jika_statement_benar <br><br>\n",
    "> elif statement_benar_atau_tidak :<br><br>&nbsp;&nbsp;&nbsp;&nbsp;\n",
    "> lakukan_jika_statement_benar <br><br>\n",
    "> else :<br><br>&nbsp;&nbsp;&nbsp;&nbsp;\n",
    "> lakukan_jika_statement_salah**"
   ]
  },
  {
   "cell_type": "markdown",
   "id": "0ccda16c",
   "metadata": {},
   "source": [
    "**Latihan if-elif-else statement**\n",
    "1. Buat if-elif-else statement untuk mengecek nilai input yang diberikan. <br>\n",
    "Jika nilai lebih besar sama dengan 75 maka akan cetak \"**Anda Mendapat Nilai A**\"<br>\n",
    "Jika nilai kurang dari 75 dan lebih besar sama dengan 70 maka akan cetak \"**Anda Mendapat Nilai AB**\"<br>\n",
    "Jika nilai kurang dari 70 dan lebih besar sama dengan 60 maka akan cetak \"**Anda Mendapat Nilai B**\"<br>\n",
    "Jika nilai kurang dari 60 dan lebih besar sama dengan 50 maka akan cetak \"**Anda Mendapat Nilai BC**\"<br>\n",
    "Jika nilai kurang dari 50 dan lebih besar sama dengan 40 maka akan cetak \"**Anda Mendapat Nilai C**\"<br>\n",
    "Jika nilai kurang dari 40 dan lebih besar sama dengan 30 maka akan cetak \"**Anda Mendapat Nilai D**\"<br>\n",
    "Selainya maka cetak \"**Anda Mendapat Nilai E**\"\n",
    "\n",
    "<!--\n",
    "\n",
    "n = int(float(input()))\n",
    "if n >= 75 :\n",
    "    print(\"Anda Mendapat Nilai A\")\n",
    "elif n < 75 and n >= 70:\n",
    "    print(\"Anda Mendapat Nilai AB\")\n",
    "elif n < 70 and n >= 60:\n",
    "    print(\"Anda Mendapat Nilai B\")\n",
    "elif n < 60 and n >= 50:\n",
    "    print(\"Anda Mendapat Nilai BC\")\n",
    "elif n < 50 and n >= 40:\n",
    "    print(\"Anda Mendapat Nilai C\")\n",
    "elif n < 40 and n >= 30:\n",
    "    print(\"Anda Mendapat Nilai D\")\n",
    "else :\n",
    "    print(\"Anda Mendapat Nilai E\")\n",
    "\n",
    "-->"
   ]
  },
  {
   "cell_type": "markdown",
   "id": "4245a5d7",
   "metadata": {},
   "source": [
    "### Intro to Loop (While-loop, for-loop)\n",
    "Loops diartikan sebagai pengulangan terhadap eksekusi instruksi dengan suatu kondisi. Dalam python Jenis loops berupa while-loop, for-loop, nested-loop.<br>\n",
    "Di Python, while-loop dapat direpresentasikan sebagai berikut:<br>\n",
    "\n",
    "> **while conditional_expression :<br><br>&nbsp;&nbsp;&nbsp;&nbsp;\n",
    ">lakukan_instruksi**\n",
    "\n",
    "Jika dilihat dari strukut <mark>if</mark>, untuk <mark>while-loop</mark> memiliki persamaan yaitu akan mengeksekusi ekspresi jika ***conditional_expression*** bernilai benar, perbedaannya jika pada **if-statement** hanya melakukan 1 kali eksekusi statement, sedangkan **while-loop** melakukan perulangan terhadap eksekusi selama kondisi dari **expression** bernilai benar. Oleh karena itu, pada **while-loop**, diperlukan sebuah **control-expression** untuk membatasi pengulangan dan menghindari **infinite loop**/**endless loop** "
   ]
  },
  {
   "cell_type": "code",
   "execution_count": null,
   "id": "f070cdcc",
   "metadata": {},
   "outputs": [],
   "source": [
    "# Contoh infinite loop\n",
    "while True:\n",
    "    print(\"I'm stuck inside a loop.\")"
   ]
  },
  {
   "cell_type": "code",
   "execution_count": null,
   "id": "ad992b09",
   "metadata": {},
   "outputs": [],
   "source": [
    "i = 0\n",
    "while i < 10 :\n",
    "    print(\"I'm stuck inside a loop.\")"
   ]
  },
  {
   "cell_type": "markdown",
   "id": "01e92d2a",
   "metadata": {},
   "source": [
    "**Bagaimana agar while-loop di atas tidak menjadi endless loop? Gunakan counter-variable**\n",
    "\n",
    "<!-- \n",
    "i = 0\n",
    "while True:\n",
    "    i += 1\n",
    "    print(\"I'm stuck inside a loop.\")\n",
    "    if i == 10:\n",
    "        break\n",
    "-->"
   ]
  },
  {
   "cell_type": "markdown",
   "id": "fdc1128e",
   "metadata": {},
   "source": [
    "###### Scenario Lab 3.1.2.3\n",
    "A junior magician has picked a secret number. He has hidden it in a variable named secret_number. He wants everyone who run his program to play the Guess the secret number game, and guess what number he has picked for them. Those who don't guess the number will be stuck in an endless loop forever! Unfortunately, he does not know how to complete the code.<br><br>\n",
    "Your task is to help the magician complete the code in the editor in such a way so that the code:<br><br>\n",
    "will ask the user to enter an integer number;<br>\n",
    "will use a while loop;<br>\n",
    "will check whether the number entered by the user is the same as the number picked by the magician. If the number chosen by the user is different than the magician's secret number, the user should see the message \"Ha ha! You're stuck in my loop!\" and be prompted to enter a number again. If the number entered by the user matches the number picked by the magician, the number should be printed to the screen, and the magician should say the following words: \"Well done, muggle! You are free now.\"\n",
    "The magician is counting on you! Don't disappoint him.<br>\n",
    "\n",
    "<!-- \n",
    "number = int(input(\"Enter Number:\"))\n",
    "while number != secret_number:\n",
    "    print(\"Ha ha! You're stuck in my loop!\")\n",
    "    number = int(input(\"Enter Number Again:\"))\n",
    "else:\n",
    "    print(\"Well done, muggle! You are free now.\")\n",
    "-->"
   ]
  },
  {
   "cell_type": "code",
   "execution_count": null,
   "id": "db3761ff",
   "metadata": {},
   "outputs": [],
   "source": [
    "# Lab 3.2.1.3\n",
    "secret_number = 777\n",
    "print(\n",
    "\"\"\"\n",
    "+================================+\n",
    "| Welcome to my game, muggle!    |\n",
    "| Enter an integer number        |\n",
    "| and guess what number I've     |\n",
    "| picked for you.                |\n",
    "| So, what is the secret number? |\n",
    "+================================+\n",
    "\"\"\")"
   ]
  },
  {
   "cell_type": "markdown",
   "id": "197e6f85",
   "metadata": {},
   "source": [
    "Selain **while**, tipe lain dari loop adalah **for-loop**. for-loop dapat direpresentasikan sebagai berikut:<br>\n",
    "> **for iterator in LIST :<br><br>&nbsp;&nbsp;&nbsp;&nbsp;\n",
    ">lakukan_instruksi**\n",
    "<br>\n",
    "\n",
    "iterator akan melihat ke dalam komponen LIST, kemudian pengulangan akan akan dilakukan selama kondisi dari LIST terpenuhi. untuk standar LIST berupa skuensial angka dapat menggunakan **range()** "
   ]
  },
  {
   "cell_type": "code",
   "execution_count": null,
   "id": "cc8b52b2",
   "metadata": {},
   "outputs": [],
   "source": [
    "# Contoh 1\n",
    "for i in range(0):\n",
    "    print(\"Nilai iteratornya adalah\", i)"
   ]
  },
  {
   "cell_type": "code",
   "execution_count": null,
   "id": "4fd557ab",
   "metadata": {},
   "outputs": [],
   "source": [
    "# Contoh 2\n",
    "lst = [\"satu\", \"dua\", \"tiga\", \"empat\", \"lima\", \"enam\", \"tujuh\", \"delapan\", \"sembilan\", \"sepuluh\"]\n",
    "for angka in lst:\n",
    "    print(\"Nilai iteratornya adalah\", angka)"
   ]
  },
  {
   "cell_type": "markdown",
   "id": "40f888e5",
   "metadata": {},
   "source": [
    "**Buat Kode untuk mengidentifikasi bilangan genap dari sampai dengan 50?**\n",
    "\n",
    "<!--\n",
    "for i in range(51):\n",
    "    if i % 2 == 0:\n",
    "        print (i, \"adalah bilangan Genap\")\n",
    "-->"
   ]
  },
  {
   "cell_type": "code",
   "execution_count": null,
   "id": "859d24ab",
   "metadata": {},
   "outputs": [
    {
     "name": "stderr",
     "output_type": "stream",
     "text": [
      "<>:8: SyntaxWarning: \"is not\" with a literal. Did you mean \"!=\"?\n",
      "<>:8: SyntaxWarning: \"is not\" with a literal. Did you mean \"!=\"?\n"
     ]
    }
   ],
   "source": [
    "#### Lab 3.2.1.10 \n",
    "# Prompt the user to enter a word\n",
    "# and assign it to the user_word variable.\n",
    "\n",
    "user_word = input(\"Masukkan hasilnya : \")\n",
    "wordku = \"\"\n",
    "for letter in user_word:\n",
    "    if letter in \"AIUEO\":\n",
    "        wordku += letter\n",
    "    # Complete the body of the for loop."
   ]
  }
 ],
 "metadata": {
  "kernelspec": {
   "display_name": "Python 3",
   "language": "python",
   "name": "python3"
  },
  "language_info": {
   "codemirror_mode": {
    "name": "ipython",
    "version": 3
   },
   "file_extension": ".py",
   "mimetype": "text/x-python",
   "name": "python",
   "nbconvert_exporter": "python",
   "pygments_lexer": "ipython3",
   "version": "3.9.6"
  }
 },
 "nbformat": 4,
 "nbformat_minor": 5
}
