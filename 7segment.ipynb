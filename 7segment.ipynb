{
  "nbformat": 4,
  "nbformat_minor": 0,
  "metadata": {
    "colab": {
      "name": "7segment.ipynb",
      "provenance": []
    },
    "kernelspec": {
      "name": "python3",
      "display_name": "Python 3"
    },
    "language_info": {
      "name": "python"
    }
  },
  "cells": [
    {
      "cell_type": "markdown",
      "metadata": {
        "id": "hVP7S5JWpqDW"
      },
      "source": [
        "# Datanya yaaaah"
      ]
    },
    {
      "cell_type": "code",
      "metadata": {
        "id": "t8lwHrvQpkP0"
      },
      "source": [
        "_0 = \\\n",
        "    \"\"\"\n",
        "#####\n",
        "#   #\n",
        "#   #\n",
        "#   #\n",
        "#####\n",
        "\"\"\"\n",
        "\n",
        "_1 = \\\n",
        "    \"\"\"\n",
        "#\n",
        "#\n",
        "#\n",
        "#\n",
        "#\n",
        "\"\"\"\n",
        "_2 = \\\n",
        "    \"\"\"\n",
        "#####\n",
        "    #\n",
        "#####\n",
        "#    \n",
        "#####\n",
        "\"\"\"\n",
        "_3 = \\\n",
        "    \"\"\"\n",
        "#####\n",
        "    #\n",
        "#####\n",
        "    #\n",
        "#####\n",
        "\"\"\"\n",
        "_4 = \\\n",
        "    \"\"\"\n",
        "#   #\n",
        "#   #\n",
        "#####\n",
        "    #\n",
        "    #\n",
        "\"\"\"\n",
        "_5 = \\\n",
        "    \"\"\"\n",
        "#####\n",
        "#    \n",
        "#####\n",
        "    #\n",
        "#####\n",
        "\"\"\"\n",
        "\n",
        "_6 = \\\n",
        "    \"\"\"\n",
        "#####\n",
        "#    \n",
        "#####\n",
        "#   #\n",
        "#####\n",
        "\"\"\"\n",
        "\n",
        "_7 = \\\n",
        "    \"\"\"\n",
        "#####\n",
        "    #\n",
        "    #\n",
        "    #\n",
        "    #\n",
        "\"\"\"\n",
        "_8 = \\\n",
        "    \"\"\"\n",
        "#####\n",
        "#   #\n",
        "#####\n",
        "#   #\n",
        "#####\n",
        "\"\"\"\n",
        "_9 = \\\n",
        "    \"\"\"\n",
        "#####\n",
        "#   #\n",
        "#####\n",
        "    #\n",
        "#####\n",
        "\"\"\"\n",
        "\n",
        "spasi = \\\n",
        "    \"\"\"\n",
        "    \n",
        "    \n",
        "    \n",
        "    \n",
        "    \n",
        "\"\"\""
      ],
      "execution_count": null,
      "outputs": []
    },
    {
      "cell_type": "code",
      "metadata": {
        "id": "Ubz6D4RcpuN-"
      },
      "source": [
        "angkaku = [_0, _1, _2, _3, _4, _5, _6, _7, _8, _9]"
      ],
      "execution_count": null,
      "outputs": []
    },
    {
      "cell_type": "markdown",
      "metadata": {
        "id": "Nz-IgoeapxOv"
      },
      "source": [
        "# Fungsinya yaaahh"
      ]
    },
    {
      "cell_type": "code",
      "metadata": {
        "id": "Dtkxk819p1Ww"
      },
      "source": [
        "def ubahangka(terang):\n",
        "    listanku = []\n",
        "    strku = str(terang)\n",
        "    for i in strku:\n",
        "        listanku.append(int(i))\n",
        "    return listanku\n",
        "\n",
        "\n",
        "def print_angka(listangka):\n",
        "    tulisanku = \"\"\"\n",
        "\n",
        "\n",
        "\n",
        "\n",
        "\n",
        "    \"\"\"\n",
        "    # untuk concat multiline, ini referensinya yaaah\n",
        "    # https://www.geeksforgeeks.org/python-horizontal-concatenation-of-multiline-strings/\n",
        "    for i in listangka:\n",
        "        tambahan = angkaku[i].split('\\n')\n",
        "        spasiku = spasi.split('\\n')\n",
        "        split_line = zip(tulisanku.split('\\n'), spasiku, tambahan)\n",
        "        tulisanku = '\\n'.join([x+y+z for x, y, z in split_line])\n",
        "    print(tulisanku)\n"
      ],
      "execution_count": null,
      "outputs": []
    },
    {
      "cell_type": "markdown",
      "metadata": {
        "id": "YTUlqxtup5e4"
      },
      "source": [
        "# Mainnya"
      ]
    },
    {
      "cell_type": "code",
      "metadata": {
        "colab": {
          "base_uri": "https://localhost:8080/"
        },
        "id": "2UuhG3xwp8PJ",
        "outputId": "08a2de3d-c55e-41c1-af1c-6ffd93c0cf68"
      },
      "source": [
        "langka = int(input(\"masukkan angka : \"))\n",
        "assert langka >= 0, \"belum bisa negatif yaah\"\n",
        "print_angka(ubahangka(langka))"
      ],
      "execution_count": null,
      "outputs": [
        {
          "output_type": "stream",
          "text": [
            "masukkan angka : 1234567890\n",
            "\n",
            "    #    #####    #####    #   #    #####    #####    #####    #####    #####    #####\n",
            "    #        #        #    #   #    #        #            #    #   #    #   #    #   #\n",
            "    #    #####    #####    #####    #####    #####        #    #####    #####    #   #\n",
            "    #    #            #        #        #    #   #        #    #   #        #    #   #\n",
            "    #    #####    #####        #    #####    #####        #    #####    #####    #####\n",
            "    \n"
          ],
          "name": "stdout"
        }
      ]
    }
  ]
}