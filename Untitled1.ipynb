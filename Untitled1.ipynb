{
 "cells": [
  {
   "cell_type": "code",
   "execution_count": 7,
   "id": "maritime-qatar",
   "metadata": {},
   "outputs": [],
   "source": [
    "import tkinter\n",
    "\n",
    "window = tkinter.Tk()\n",
    "window.title(\"GUI\")\n",
    "\n",
    "# creating 2 frames TOP and BOTTOM\n",
    "top_frame = tkinter.Frame(window).pack()\n",
    "bottom_frame = tkinter.Frame(window).pack(side = \"bottom\")\n",
    "\n",
    "# now, create some widgets in the top_frame and bottom_frame\n",
    "btn1 = tkinter.Button(top_frame, text = \"Button1\", fg = \"red\").pack()# 'fg - foreground' is used to color the contents\n",
    "btn2 = tkinter.Button(top_frame, text = \"Button2\", fg = \"green\").pack()# 'text' is used to write the text on the Button\n",
    "btn3 = tkinter.Button(bottom_frame, text = \"Button2\", fg = \"purple\").pack(side = \"left\")# 'side' is used to align the widgets\n",
    "btn4 = tkinter.Button(bottom_frame, text = \"Button2\", fg = \"orange\").pack(side = \"left\")\n",
    "\n",
    "window.mainloop()\n"
   ]
  },
  {
   "cell_type": "code",
   "execution_count": null,
   "id": "basic-powell",
   "metadata": {},
   "outputs": [],
   "source": []
  }
 ],
 "metadata": {
  "kernelspec": {
   "display_name": "Python 3",
   "language": "python",
   "name": "python3"
  },
  "language_info": {
   "codemirror_mode": {
    "name": "ipython",
    "version": 3
   },
   "file_extension": ".py",
   "mimetype": "text/x-python",
   "name": "python",
   "nbconvert_exporter": "python",
   "pygments_lexer": "ipython3",
   "version": "3.9.6"
  }
 },
 "nbformat": 4,
 "nbformat_minor": 5
}
