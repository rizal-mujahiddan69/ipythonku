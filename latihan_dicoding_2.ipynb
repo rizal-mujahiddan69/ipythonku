{
  "nbformat": 4,
  "nbformat_minor": 0,
  "metadata": {
    "colab": {
      "name": "latihan dicoding 2.ipynb",
      "provenance": [],
      "toc_visible": true
    },
    "kernelspec": {
      "name": "python3",
      "display_name": "Python 3"
    },
    "language_info": {
      "name": "python"
    }
  },
  "cells": [
    {
      "cell_type": "code",
      "metadata": {
        "id": "PnQ3La65WX72"
      },
      "source": [
        "from sklearn.preprocessing import MinMaxScaler\n",
        "data = [[12000000, 33], [35000000, 45], [4000000, 23], [6500000, 26], [9000000, 29]]"
      ],
      "execution_count": null,
      "outputs": []
    },
    {
      "cell_type": "code",
      "metadata": {
        "colab": {
          "base_uri": "https://localhost:8080/"
        },
        "id": "-GLnqAWqWhX0",
        "outputId": "a84dd749-92d2-4647-8196-c35faf387c46"
      },
      "source": [
        "scaler = MinMaxScaler()\n",
        "scaler.fit(data)"
      ],
      "execution_count": null,
      "outputs": [
        {
          "output_type": "execute_result",
          "data": {
            "text/plain": [
              "MinMaxScaler(copy=True, feature_range=(0, 1))"
            ]
          },
          "metadata": {
            "tags": []
          },
          "execution_count": 11
        }
      ]
    },
    {
      "cell_type": "code",
      "metadata": {
        "colab": {
          "base_uri": "https://localhost:8080/"
        },
        "id": "URZXsci1WsL0",
        "outputId": "cdccb7b2-ccac-4899-b3b2-5648ac20204f"
      },
      "source": [
        "print(scaler.transform(data))"
      ],
      "execution_count": null,
      "outputs": [
        {
          "output_type": "stream",
          "text": [
            "[[0.25806452 0.45454545]\n",
            " [1.         1.        ]\n",
            " [0.         0.        ]\n",
            " [0.08064516 0.13636364]\n",
            " [0.16129032 0.27272727]]\n"
          ],
          "name": "stdout"
        }
      ]
    },
    {
      "cell_type": "code",
      "metadata": {
        "id": "CznnFysKaw6R"
      },
      "source": [
        "import sklearn\n",
        "from sklearn import datasets"
      ],
      "execution_count": null,
      "outputs": []
    },
    {
      "cell_type": "code",
      "metadata": {
        "id": "aXC5e8EGa0cw"
      },
      "source": [
        "iris = datasets.load_iris()\n",
        "x = iris.data\n",
        "y = iris.target"
      ],
      "execution_count": null,
      "outputs": []
    },
    {
      "cell_type": "code",
      "metadata": {
        "colab": {
          "base_uri": "https://localhost:8080/"
        },
        "id": "P57pflVtbQdU",
        "outputId": "9ea7aea0-5462-4a1f-ad86-24d93e282af1"
      },
      "source": [
        "print(x_train.shape,x_test.shape,y_train.shape,y_test.shape)"
      ],
      "execution_count": null,
      "outputs": [
        {
          "output_type": "stream",
          "text": [
            "(120, 4) (30, 4) (120,) (30,)\n"
          ],
          "name": "stdout"
        }
      ]
    },
    {
      "cell_type": "code",
      "metadata": {
        "colab": {
          "base_uri": "https://localhost:8080/"
        },
        "id": "OVtCQjKyhCnn",
        "outputId": "31f2260c-89dc-4d73-a167-0ec9b9c8cdaf"
      },
      "source": [
        "print(x_train)"
      ],
      "execution_count": null,
      "outputs": [
        {
          "output_type": "stream",
          "text": [
            "[[6.3 3.3 4.7 1.6]\n",
            " [6.3 2.8 5.1 1.5]\n",
            " [5.7 3.  4.2 1.2]\n",
            " [6.  2.2 5.  1.5]\n",
            " [5.8 4.  1.2 0.2]\n",
            " [6.4 2.7 5.3 1.9]\n",
            " [7.2 3.6 6.1 2.5]\n",
            " [5.5 2.5 4.  1.3]\n",
            " [5.4 3.  4.5 1.5]\n",
            " [6.3 3.4 5.6 2.4]\n",
            " [5.1 3.5 1.4 0.2]\n",
            " [5.4 3.4 1.5 0.4]\n",
            " [6.9 3.2 5.7 2.3]\n",
            " [4.9 3.1 1.5 0.1]\n",
            " [6.  2.2 4.  1. ]\n",
            " [7.2 3.  5.8 1.6]\n",
            " [6.9 3.1 5.1 2.3]\n",
            " [6.2 2.8 4.8 1.8]\n",
            " [5.7 2.8 4.1 1.3]\n",
            " [4.3 3.  1.1 0.1]\n",
            " [5.  2.  3.5 1. ]\n",
            " [6.2 2.2 4.5 1.5]\n",
            " [6.6 3.  4.4 1.4]\n",
            " [6.7 3.3 5.7 2.1]\n",
            " [5.4 3.7 1.5 0.2]\n",
            " [4.7 3.2 1.6 0.2]\n",
            " [6.1 3.  4.6 1.4]\n",
            " [6.7 2.5 5.8 1.8]\n",
            " [5.4 3.9 1.3 0.4]\n",
            " [4.8 3.  1.4 0.3]\n",
            " [6.5 2.8 4.6 1.5]\n",
            " [4.9 3.1 1.5 0.2]\n",
            " [5.8 2.8 5.1 2.4]\n",
            " [6.2 3.4 5.4 2.3]\n",
            " [6.2 2.9 4.3 1.3]\n",
            " [5.2 2.7 3.9 1.4]\n",
            " [7.1 3.  5.9 2.1]\n",
            " [5.7 2.8 4.5 1.3]\n",
            " [6.3 2.9 5.6 1.8]\n",
            " [4.8 3.4 1.9 0.2]\n",
            " [5.5 2.3 4.  1.3]\n",
            " [5.5 2.6 4.4 1.2]\n",
            " [5.5 4.2 1.4 0.2]\n",
            " [5.8 2.7 4.1 1. ]\n",
            " [4.5 2.3 1.3 0.3]\n",
            " [6.5 3.2 5.1 2. ]\n",
            " [5.2 3.4 1.4 0.2]\n",
            " [5.1 3.5 1.4 0.3]\n",
            " [4.9 3.6 1.4 0.1]\n",
            " [5.8 2.7 5.1 1.9]\n",
            " [6.6 2.9 4.6 1.3]\n",
            " [4.6 3.6 1.  0.2]\n",
            " [6.4 3.1 5.5 1.8]\n",
            " [7.7 3.8 6.7 2.2]\n",
            " [6.8 3.2 5.9 2.3]\n",
            " [5.  3.2 1.2 0.2]\n",
            " [6.4 3.2 5.3 2.3]\n",
            " [5.7 3.8 1.7 0.3]\n",
            " [5.9 3.2 4.8 1.8]\n",
            " [5.  3.  1.6 0.2]\n",
            " [6.  3.  4.8 1.8]\n",
            " [5.1 3.7 1.5 0.4]\n",
            " [5.  3.5 1.3 0.3]\n",
            " [6.7 3.1 4.4 1.4]\n",
            " [6.1 2.8 4.7 1.2]\n",
            " [6.  2.9 4.5 1.5]\n",
            " [5.1 3.3 1.7 0.5]\n",
            " [7.9 3.8 6.4 2. ]\n",
            " [5.2 3.5 1.5 0.2]\n",
            " [5.5 2.4 3.8 1.1]\n",
            " [6.4 3.2 4.5 1.5]\n",
            " [5.4 3.9 1.7 0.4]\n",
            " [6.3 2.5 5.  1.9]\n",
            " [4.6 3.1 1.5 0.2]\n",
            " [5.  3.4 1.5 0.2]\n",
            " [6.5 3.  5.5 1.8]\n",
            " [5.9 3.  4.2 1.5]\n",
            " [6.8 2.8 4.8 1.4]\n",
            " [7.7 2.8 6.7 2. ]\n",
            " [5.5 2.4 3.7 1. ]\n",
            " [5.8 2.7 3.9 1.2]\n",
            " [6.7 3.1 5.6 2.4]\n",
            " [5.1 3.8 1.9 0.4]\n",
            " [6.3 2.5 4.9 1.5]\n",
            " [5.1 3.8 1.6 0.2]\n",
            " [6.5 3.  5.8 2.2]\n",
            " [6.1 2.9 4.7 1.4]\n",
            " [7.7 2.6 6.9 2.3]\n",
            " [6.3 2.3 4.4 1.3]\n",
            " [5.6 3.  4.5 1.5]\n",
            " [7.4 2.8 6.1 1.9]\n",
            " [6.  3.4 4.5 1.6]\n",
            " [5.1 2.5 3.  1.1]\n",
            " [4.9 2.5 4.5 1.7]\n",
            " [5.2 4.1 1.5 0.1]\n",
            " [6.4 2.8 5.6 2.1]\n",
            " [4.8 3.  1.4 0.1]\n",
            " [6.4 2.9 4.3 1.3]\n",
            " [4.6 3.4 1.4 0.3]\n",
            " [6.8 3.  5.5 2.1]\n",
            " [5.  3.5 1.6 0.6]\n",
            " [6.5 3.  5.2 2. ]\n",
            " [5.6 2.8 4.9 2. ]\n",
            " [5.8 2.7 5.1 1.9]\n",
            " [5.7 2.5 5.  2. ]\n",
            " [7.2 3.2 6.  1.8]\n",
            " [6.7 3.3 5.7 2.5]\n",
            " [5.9 3.  5.1 1.8]\n",
            " [4.4 3.2 1.3 0.2]\n",
            " [5.  3.4 1.6 0.4]\n",
            " [6.1 2.6 5.6 1.4]\n",
            " [5.7 2.9 4.2 1.3]\n",
            " [5.6 2.7 4.2 1.3]\n",
            " [6.9 3.1 4.9 1.5]\n",
            " [5.7 4.4 1.5 0.4]\n",
            " [5.4 3.4 1.7 0.2]\n",
            " [5.1 3.4 1.5 0.2]\n",
            " [6.  2.7 5.1 1.6]\n",
            " [5.  2.3 3.3 1. ]\n",
            " [7.  3.2 4.7 1.4]]\n"
          ],
          "name": "stdout"
        }
      ]
    },
    {
      "cell_type": "code",
      "metadata": {
        "colab": {
          "base_uri": "https://localhost:8080/"
        },
        "id": "YBAniwCOc4fC",
        "outputId": "1e6fef65-032f-4546-cdf2-76bc05220969"
      },
      "source": [
        "from sklearn import tree\n",
        "from sklearn.model_selection import cross_val_score\n",
        "\n",
        "clf = tree.DecisionTreeClassifier()\n",
        "scores = cross_val_score(clf, x, y, cv=5)\n",
        "scores"
      ],
      "execution_count": null,
      "outputs": [
        {
          "output_type": "execute_result",
          "data": {
            "text/plain": [
              "array([0.96666667, 0.96666667, 0.9       , 1.        , 1.        ])"
            ]
          },
          "metadata": {
            "tags": []
          },
          "execution_count": 17
        }
      ]
    },
    {
      "cell_type": "code",
      "metadata": {
        "id": "2T7dxCJRgzpx"
      },
      "source": [
        ""
      ],
      "execution_count": null,
      "outputs": []
    }
  ]
}