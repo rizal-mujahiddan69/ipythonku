{
  "nbformat": 4,
  "nbformat_minor": 0,
  "metadata": {
    "colab": {
      "name": "Sisdas,LKP3.ipynb",
      "provenance": [],
      "collapsed_sections": []
    },
    "kernelspec": {
      "name": "python3",
      "display_name": "Python 3"
    },
    "language_info": {
      "name": "python"
    }
  },
  "cells": [
    {
      "cell_type": "code",
      "source": [
        "import os\n",
        "os.system(\"pip install -U neuralplot\")\n",
        "os.system(\"pip install -U ann_visualizer\")\n",
        "os.system(\"pip install -U graphviz\")\n",
        "os.system(\"pip install kviz\")\n",
        "os.system(\"pip install keras-visualizer\")"
      ],
      "metadata": {
        "colab": {
          "base_uri": "https://localhost:8080/"
        },
        "id": "-7WXh4q00Fl9",
        "outputId": "268b3893-5132-4750-a16b-8f080da7c0fb"
      },
      "execution_count": 82,
      "outputs": [
        {
          "output_type": "execute_result",
          "data": {
            "text/plain": [
              "0"
            ]
          },
          "metadata": {},
          "execution_count": 82
        }
      ]
    },
    {
      "cell_type": "code",
      "execution_count": 83,
      "metadata": {
        "id": "5-FSSi9AVx0q"
      },
      "outputs": [],
      "source": [
        "from neuralplot import ModelPlot\n",
        "import datetime\n",
        "import tensorflow as tf\n",
        "import pandas as pd\n",
        "import numpy as np\n",
        "import matplotlib.pyplot as plt"
      ]
    },
    {
      "cell_type": "code",
      "source": [
        "from tensorflow.keras import Sequential as Sqtl\n",
        "from tensorflow.keras.layers import *\n",
        "from tensorflow.keras.utils import plot_model"
      ],
      "metadata": {
        "id": "fNIYws9BXKib"
      },
      "execution_count": 84,
      "outputs": []
    },
    {
      "cell_type": "code",
      "source": [
        "from tensorflow.keras import backend as K\n",
        "from tensorflow.keras.layers import Activation\n",
        "from tensorflow.keras.utils import get_custom_objects\n",
        "\n",
        "### Note! You cannot use random python functions, activation function gets as an input tensorflow tensors and should return tensors. There are a lot of helper functions in keras backend.\n",
        "def custom_activation(x):  \n",
        "    return ( (2/(1 + K.exp(-x))) -1)\n",
        "     \n",
        "get_custom_objects().update({'custom_activation': Activation(custom_activation)})"
      ],
      "metadata": {
        "id": "fluCW9cwhl3w"
      },
      "execution_count": 85,
      "outputs": []
    },
    {
      "cell_type": "code",
      "source": [
        "datasetku = pd.DataFrame({\"x1\":[1,1],\"x2\":[1,-1],\"y\":[-1,1]})\n",
        "\n",
        "initku1 = tf.constant_initializer(np.array([[0.2,0.3],[0.4,0.3]]))\n",
        "initku2 = tf.constant_initializer(np.array([[0.2],[0.3]]))\n",
        "\n",
        "bias1 = tf.constant_initializer(np.array([[0.2],[0.2]]))\n",
        "bias2 = tf.constant_initializer(np.array([[0.1]]))\n",
        "\n",
        "model = Sqtl([Dense(2,input_dim=2,\n",
        "                    activation=\"custom_activation\",\n",
        "                    kernel_initializer=initku1,\n",
        "                    bias_initializer=bias1,\n",
        "),\n",
        "              Dense(1,activation=\"custom_activation\",\n",
        "                    kernel_initializer = initku2,\n",
        "                    bias_initializer=bias2\n",
        ")])"
      ],
      "metadata": {
        "id": "FVmctUACV2VW"
      },
      "execution_count": 86,
      "outputs": []
    },
    {
      "cell_type": "code",
      "source": [
        "pendataan = \\\n",
        "\"\"\"digraph G {\n",
        "    subgraph cluster_0 {\n",
        "\t\tnode [style=filled,color=indianred1];\n",
        "\t\tx1[fontcolor=white];x2[fontcolor=white];\n",
        "\t\tlabel=\"Input Layer\";\n",
        "\t\tcolor=white;\n",
        "        \n",
        "\t}\n",
        "\tsubgraph cluster_1{\n",
        "\t    node [style=filled,color=Turquoise];\n",
        "\t\tz1[fontcolor=white];z2[fontcolor=white];\n",
        "\t\tcolor=white;\n",
        "\t}\n",
        "\tsubgraph cluster_2{\n",
        "\t    node [style=filled,color=green];\n",
        "\t\tY[fontcolor=white];\n",
        "\t\tlabel=\"Output Layer\";\n",
        "\t\tlabelloc=\"b\";\n",
        "\t\tcolor=white;\n",
        "\t}\n",
        "\tx1->z1[label=\"W11 = 0.2\"];\n",
        "\tx1->z2[label=\"W12 = 0.3\"];\n",
        "\tx2->z1[label=\"W21 = 0.4\"];\n",
        "\tx2->z2[label=\"W22 = 0.3\"];\n",
        "\tz1->Y[label=\"W1Y = 0.2\"];\n",
        "\tz2->Y[label=\"W2Y = 0.3\"];\n",
        "}\"\"\"\n",
        "open(\"neural_network.gv\",\"w\").write(pendataan)"
      ],
      "metadata": {
        "colab": {
          "base_uri": "https://localhost:8080/"
        },
        "id": "M8-g205xhhiT",
        "outputId": "8522ce5c-77c8-485c-994d-c5a33c381052"
      },
      "execution_count": 87,
      "outputs": [
        {
          "output_type": "execute_result",
          "data": {
            "text/plain": [
              "600"
            ]
          },
          "metadata": {},
          "execution_count": 87
        }
      ]
    },
    {
      "cell_type": "markdown",
      "source": [
        "Adanya di sebelah kiri ya pembacaan labelnya"
      ],
      "metadata": {
        "id": "OPin5IBgiAxL"
      }
    },
    {
      "cell_type": "code",
      "source": [
        "from ann_visualizer.visualize import ann_viz;\n",
        "ann_viz(model, title=\"My first neural network\",filename=\"Rizal.gv\")\n",
        "\n",
        "from graphviz import Source\n",
        "Source.from_file('neural_network.gv')"
      ],
      "metadata": {
        "colab": {
          "base_uri": "https://localhost:8080/",
          "height": 415
        },
        "id": "xL9b00fJ21jE",
        "outputId": "0a5be15e-ade4-4ce1-b39b-39f6bca47558"
      },
      "execution_count": 88,
      "outputs": [
        {
          "output_type": "execute_result",
          "data": {
            "text/plain": [
              "<graphviz.sources.Source at 0x7fdec8c97c10>"
            ],
            "image/svg+xml": "<?xml version=\"1.0\" encoding=\"UTF-8\" standalone=\"no\"?>\n<!DOCTYPE svg PUBLIC \"-//W3C//DTD SVG 1.1//EN\"\n \"http://www.w3.org/Graphics/SVG/1.1/DTD/svg11.dtd\">\n<!-- Generated by graphviz version 2.40.1 (20161225.0304)\n -->\n<!-- Title: G Pages: 1 -->\n<svg width=\"303pt\" height=\"296pt\"\n viewBox=\"0.00 0.00 303.00 296.00\" xmlns=\"http://www.w3.org/2000/svg\" xmlns:xlink=\"http://www.w3.org/1999/xlink\">\n<g id=\"graph0\" class=\"graph\" transform=\"scale(1 1) rotate(0) translate(4 292)\">\n<title>G</title>\n<polygon fill=\"#ffffff\" stroke=\"transparent\" points=\"-4,4 -4,-292 299,-292 299,4 -4,4\"/>\n<g id=\"clust1\" class=\"cluster\">\n<title>cluster_0</title>\n<polygon fill=\"none\" stroke=\"#ffffff\" points=\"48,-205 48,-280 190,-280 190,-205 48,-205\"/>\n<text text-anchor=\"middle\" x=\"119\" y=\"-264.8\" font-family=\"Times,serif\" font-size=\"14.00\" fill=\"#000000\">Input Layer</text>\n</g>\n<g id=\"clust2\" class=\"cluster\">\n<title>cluster_1</title>\n<polygon fill=\"none\" stroke=\"#ffffff\" points=\"8,-118 8,-170 150,-170 150,-118 8,-118\"/>\n</g>\n<g id=\"clust3\" class=\"cluster\">\n<title>cluster_2</title>\n<polygon fill=\"none\" stroke=\"#ffffff\" points=\"52,-8 52,-83 146,-83 146,-8 52,-8\"/>\n<text text-anchor=\"middle\" x=\"99\" y=\"-15.8\" font-family=\"Times,serif\" font-size=\"14.00\" fill=\"#000000\">Output Layer</text>\n</g>\n<!-- x1 -->\n<g id=\"node1\" class=\"node\">\n<title>x1</title>\n<ellipse fill=\"#ff6a6a\" stroke=\"#ff6a6a\" cx=\"83\" cy=\"-231\" rx=\"27\" ry=\"18\"/>\n<text text-anchor=\"middle\" x=\"83\" y=\"-227.3\" font-family=\"Times,serif\" font-size=\"14.00\" fill=\"#ffffff\">x1</text>\n</g>\n<!-- z1 -->\n<g id=\"node3\" class=\"node\">\n<title>z1</title>\n<ellipse fill=\"#40e0d0\" stroke=\"#40e0d0\" cx=\"43\" cy=\"-144\" rx=\"27\" ry=\"18\"/>\n<text text-anchor=\"middle\" x=\"43\" y=\"-140.3\" font-family=\"Times,serif\" font-size=\"14.00\" fill=\"#ffffff\">z1</text>\n</g>\n<!-- x1&#45;&gt;z1 -->\n<g id=\"edge1\" class=\"edge\">\n<title>x1&#45;&gt;z1</title>\n<path fill=\"none\" stroke=\"#000000\" d=\"M57.022,-225.9623C39.8842,-221.1451 18.6919,-211.992 8,-195 1.4565,-184.6009 7.7531,-173.31 16.7196,-164.0018\"/>\n<polygon fill=\"#000000\" stroke=\"#000000\" points=\"19.3134,-166.3707 24.2886,-157.0166 14.5661,-161.2265 19.3134,-166.3707\"/>\n<text text-anchor=\"middle\" x=\"39.5\" y=\"-183.8\" font-family=\"Times,serif\" font-size=\"14.00\" fill=\"#000000\">W11 = 0.2</text>\n</g>\n<!-- z2 -->\n<g id=\"node4\" class=\"node\">\n<title>z2</title>\n<ellipse fill=\"#40e0d0\" stroke=\"#40e0d0\" cx=\"115\" cy=\"-144\" rx=\"27\" ry=\"18\"/>\n<text text-anchor=\"middle\" x=\"115\" y=\"-140.3\" font-family=\"Times,serif\" font-size=\"14.00\" fill=\"#ffffff\">z2</text>\n</g>\n<!-- x1&#45;&gt;z2 -->\n<g id=\"edge2\" class=\"edge\">\n<title>x1&#45;&gt;z2</title>\n<path fill=\"none\" stroke=\"#000000\" d=\"M76.6182,-213.3622C73.991,-203.2329 72.491,-190.4829 77,-180 79.5921,-173.9737 83.7439,-168.4835 88.3697,-163.7062\"/>\n<polygon fill=\"#000000\" stroke=\"#000000\" points=\"90.8777,-166.1548 95.8728,-156.8114 86.1413,-161.0006 90.8777,-166.1548\"/>\n<text text-anchor=\"middle\" x=\"109\" y=\"-183.8\" font-family=\"Times,serif\" font-size=\"14.00\" fill=\"#000000\">W12 = 0.3</text>\n</g>\n<!-- x2 -->\n<g id=\"node2\" class=\"node\">\n<title>x2</title>\n<ellipse fill=\"#ff6a6a\" stroke=\"#ff6a6a\" cx=\"155\" cy=\"-231\" rx=\"27\" ry=\"18\"/>\n<text text-anchor=\"middle\" x=\"155\" y=\"-227.3\" font-family=\"Times,serif\" font-size=\"14.00\" fill=\"#ffffff\">x2</text>\n</g>\n<!-- x2&#45;&gt;z1 -->\n<g id=\"edge3\" class=\"edge\">\n<title>x2&#45;&gt;z1</title>\n<path fill=\"none\" stroke=\"#000000\" d=\"M154.7307,-212.8906C153.5634,-201.8058 150.1568,-188.2177 141,-180 120.227,-161.3575 104.787,-180.6813 79,-170 75.2606,-168.4511 71.5408,-166.444 67.99,-164.2318\"/>\n<polygon fill=\"#000000\" stroke=\"#000000\" points=\"69.8181,-161.2411 59.5963,-158.4543 65.8492,-167.0072 69.8181,-161.2411\"/>\n<text text-anchor=\"middle\" x=\"183\" y=\"-183.8\" font-family=\"Times,serif\" font-size=\"14.00\" fill=\"#000000\">W21 = 0.4</text>\n</g>\n<!-- x2&#45;&gt;z2 -->\n<g id=\"edge4\" class=\"edge\">\n<title>x2&#45;&gt;z2</title>\n<path fill=\"none\" stroke=\"#000000\" d=\"M180.3808,-224.4973C207.0987,-216.3799 243.3268,-200.9687 228,-180 218.7617,-167.3611 180.6252,-157.0346 151.1828,-150.7332\"/>\n<polygon fill=\"#000000\" stroke=\"#000000\" points=\"151.6935,-147.265 141.1929,-148.675 150.2809,-154.121 151.6935,-147.265\"/>\n<text text-anchor=\"middle\" x=\"263\" y=\"-183.8\" font-family=\"Times,serif\" font-size=\"14.00\" fill=\"#000000\">W22 = 0.3</text>\n</g>\n<!-- Y -->\n<g id=\"node5\" class=\"node\">\n<title>Y</title>\n<ellipse fill=\"#00ff00\" stroke=\"#00ff00\" cx=\"99\" cy=\"-57\" rx=\"27\" ry=\"18\"/>\n<text text-anchor=\"middle\" x=\"99\" y=\"-53.3\" font-family=\"Times,serif\" font-size=\"14.00\" fill=\"#ffffff\">Y</text>\n</g>\n<!-- z1&#45;&gt;Y -->\n<g id=\"edge5\" class=\"edge\">\n<title>z1&#45;&gt;Y</title>\n<path fill=\"none\" stroke=\"#000000\" d=\"M35.8679,-126.3972C32.8551,-116.0388 31.2175,-103.0442 37,-93 43.2586,-82.1288 54.1984,-74.2377 65.1635,-68.6652\"/>\n<polygon fill=\"#000000\" stroke=\"#000000\" points=\"66.6275,-71.8445 74.278,-64.5151 63.7267,-65.4738 66.6275,-71.8445\"/>\n<text text-anchor=\"middle\" x=\"70\" y=\"-96.8\" font-family=\"Times,serif\" font-size=\"14.00\" fill=\"#000000\">W1Y = 0.2</text>\n</g>\n<!-- z2&#45;&gt;Y -->\n<g id=\"edge6\" class=\"edge\">\n<title>z2&#45;&gt;Y</title>\n<path fill=\"none\" stroke=\"#000000\" d=\"M111.6848,-125.9735C109.518,-114.1918 106.6433,-98.5607 104.1785,-85.1581\"/>\n<polygon fill=\"#000000\" stroke=\"#000000\" points=\"107.5621,-84.2053 102.311,-75.0034 100.6775,-85.4715 107.5621,-84.2053\"/>\n<text text-anchor=\"middle\" x=\"141\" y=\"-96.8\" font-family=\"Times,serif\" font-size=\"14.00\" fill=\"#000000\">W2Y = 0.3</text>\n</g>\n</g>\n</svg>\n"
          },
          "metadata": {},
          "execution_count": 88
        }
      ]
    },
    {
      "cell_type": "markdown",
      "source": [
        "## Inisiasi dari weight dahulu"
      ],
      "metadata": {
        "id": "9C1VqswEk9sS"
      }
    },
    {
      "cell_type": "code",
      "source": [
        "print(\"weightnya : \",model.layers[0].get_weights()[0])\n",
        "print(\"Bias \",model.layers[0].get_weights()[1])"
      ],
      "metadata": {
        "colab": {
          "base_uri": "https://localhost:8080/"
        },
        "id": "1MLN4I7ZviUl",
        "outputId": "a969c29d-d15a-4adc-c71f-5d0afafe9a06"
      },
      "execution_count": 89,
      "outputs": [
        {
          "output_type": "stream",
          "name": "stdout",
          "text": [
            "weightnya :  [[0.2 0.3]\n",
            " [0.4 0.3]]\n",
            "Bias  [0.2 0.2]\n"
          ]
        }
      ]
    },
    {
      "cell_type": "code",
      "source": [
        "print(\"weightnya : \",model.layers[1].get_weights()[0])\n",
        "print(\"Bias \",model.layers[1].get_weights()[1])"
      ],
      "metadata": {
        "colab": {
          "base_uri": "https://localhost:8080/"
        },
        "id": "QgQ5P17kaBcc",
        "outputId": "b79a8729-8448-4476-bfc4-6e3531024360"
      },
      "execution_count": 90,
      "outputs": [
        {
          "output_type": "stream",
          "name": "stdout",
          "text": [
            "weightnya :  [[0.2]\n",
            " [0.3]]\n",
            "Bias  [0.1]\n"
          ]
        }
      ]
    },
    {
      "cell_type": "markdown",
      "source": [
        "Lakukan Neural Network"
      ],
      "metadata": {
        "id": "ltmHCnWYlewb"
      }
    },
    {
      "cell_type": "code",
      "source": [
        "logdir = os.path.join(\"logs\", datetime.datetime.now().strftime(\"%Y%m%d-%H%M%S\"))\n",
        "tensorboard_callback = tf.keras.callbacks.TensorBoard(logdir, histogram_freq=1)\n",
        "\n",
        "optimum = tf.keras.optimizers.SGD(learning_rate=0.05)\n",
        "model.compile(loss='mse',optimizer=optimum,metrics=['accuracy'])\n",
        "historyku = model.fit(datasetku[[\"x1\",\"x2\"]],\n",
        "                      datasetku[[\"y\"]],epochs=1,\n",
        "                      callbacks=[tensorboard_callback])"
      ],
      "metadata": {
        "colab": {
          "base_uri": "https://localhost:8080/"
        },
        "id": "pg2aTZoqb22R",
        "outputId": "ac11a2de-1157-4bf8-be1a-a330c3a9dc39"
      },
      "execution_count": 91,
      "outputs": [
        {
          "output_type": "stream",
          "name": "stdout",
          "text": [
            "WARNING:tensorflow:5 out of the last 5 calls to <function Model.make_train_function.<locals>.train_function at 0x7fdec8c3bb00> triggered tf.function retracing. Tracing is expensive and the excessive number of tracings could be due to (1) creating @tf.function repeatedly in a loop, (2) passing tensors with different shapes, (3) passing Python objects instead of tensors. For (1), please define your @tf.function outside of the loop. For (2), @tf.function has experimental_relax_shapes=True option that relaxes argument shapes that can avoid unnecessary retracing. For (3), please refer to https://www.tensorflow.org/guide/function#controlling_retracing and https://www.tensorflow.org/api_docs/python/tf/function for  more details.\n",
            "1/1 [==============================] - 1s 752ms/step - loss: 1.0916 - accuracy: 0.0000e+00\n"
          ]
        }
      ]
    },
    {
      "cell_type": "markdown",
      "source": [
        "## Ini hasil dari backpropragation"
      ],
      "metadata": {
        "id": "P0tN-dF-kOBT"
      }
    },
    {
      "cell_type": "code",
      "source": [
        "print(\"weightnya : \",model.layers[0].get_weights()[0])\n",
        "print(\"Bias \",model.layers[0].get_weights()[1])"
      ],
      "metadata": {
        "colab": {
          "base_uri": "https://localhost:8080/"
        },
        "id": "2AMn2Z2pu-QJ",
        "outputId": "ce24326a-0fc7-40e1-a826-945fc36ee6b5"
      },
      "execution_count": 92,
      "outputs": [
        {
          "output_type": "stream",
          "name": "stdout",
          "text": [
            "weightnya :  [[0.19993167 0.2998628 ]\n",
            " [0.39527562 0.29294813]]\n",
            "Bias  [0.19993167 0.19986281]\n"
          ]
        }
      ]
    },
    {
      "cell_type": "code",
      "source": [
        "print(\"weightnya : \",model.layers[1].get_weights()[0])\n",
        "print(\"Bias \",model.layers[1].get_weights()[1])"
      ],
      "metadata": {
        "colab": {
          "base_uri": "https://localhost:8080/"
        },
        "id": "yfO04ug6N3-R",
        "outputId": "565c46dd-15d6-4474-c7e9-3598dc471e72"
      },
      "execution_count": 93,
      "outputs": [
        {
          "output_type": "stream",
          "name": "stdout",
          "text": [
            "weightnya :  [[0.18935892]\n",
            " [0.2916792 ]]\n",
            "Bias  [0.09527355]\n"
          ]
        }
      ]
    }
  ]
}